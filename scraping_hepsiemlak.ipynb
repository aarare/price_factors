{
 "cells": [
  {
   "cell_type": "code",
   "execution_count": 2,
   "id": "4cbd628b",
   "metadata": {
    "ExecuteTime": {
     "end_time": "2023-11-19T04:58:26.378634Z",
     "start_time": "2023-11-19T04:58:21.544547Z"
    }
   },
   "outputs": [],
   "source": [
    "import pandas as pd\n",
    "import numpy as np\n",
    "\n",
    "import json\n",
    "import requests\n",
    "from bs4 import BeautifulSoup as bts\n",
    "import bs4\n",
    "import requests\n",
    "import time\n",
    "import re"
   ]
  },
  {
   "cell_type": "code",
   "execution_count": 829,
   "id": "ae608e71",
   "metadata": {
    "ExecuteTime": {
     "end_time": "2023-11-12T16:30:03.113185Z",
     "start_time": "2023-11-12T16:30:03.100011Z"
    }
   },
   "outputs": [],
   "source": [
    "pd.options.display.max_colwidth = 9999"
   ]
  },
  {
   "cell_type": "code",
   "execution_count": 830,
   "id": "eda3f2f5",
   "metadata": {
    "ExecuteTime": {
     "end_time": "2023-11-12T16:30:03.332949Z",
     "start_time": "2023-11-12T16:30:03.319500Z"
    }
   },
   "outputs": [],
   "source": [
    "def getAndParseURL(url):\n",
    "    result = requests.get(url,headers={\"User-Agent\":\"Mozilla/5.0\"})\n",
    "    soup = bts(result.text, 'html.parser')\n",
    "    return soup"
   ]
  },
  {
   "cell_type": "code",
   "execution_count": 912,
   "id": "aa33b94e",
   "metadata": {
    "ExecuteTime": {
     "end_time": "2023-11-13T17:08:46.120437Z",
     "start_time": "2023-11-13T17:08:46.107415Z"
    }
   },
   "outputs": [],
   "source": [
    "def harvest_rentals(rentals, result):\n",
    "    for rentallink in rentals:\n",
    "        html = getAndParseURL(rentallink)\n",
    "        \n",
    "        try:\n",
    "            name = html.find('h1', class_= 'fontRB').text.strip()\n",
    "        except:\n",
    "            name = np.nan\n",
    "                \n",
    "        try:\n",
    "            price = html.find('p', class_ = 'fz24-text price').text.strip().strip(\" TL\\n                  \")\n",
    "        except:\n",
    "            price = np.nan\n",
    "        \n",
    "        area_m2 = html.find(\"div\", class_= \"container det-container\").find(string=re.compile(\"Brüt / Net M2\")).findNext().text.replace(\"m2\",\"\").strip()\n",
    "        #ad_no = html.find(\"div\", class_= \"container det-container\").find(string=re.compile(\"İlan no\")).findNext().text.strip()\n",
    "        date = html.find(\"div\", class_= \"container det-container\").find(string=re.compile(\"Son Güncelleme Tarihi\")).findNext().text.strip()\n",
    "        floor_number = html.find(\"div\", class_= \"container det-container\").find(string=re.compile(\"Bulunduğu Kat\")).findNext().text.replace(\". Kat\",\"\").strip()\n",
    "        age = html.find(\"div\", class_= \"container det-container\").find(string=re.compile(\"Bina Yaşı\")).findNext().text.replace(\" Yaşında\",\"\").strip()\n",
    "        bath_number = html.find(\"div\", class_= \"container det-container\").find(string=re.compile(\"Banyo Sayısı\")).findNext().text.strip()\n",
    "        \n",
    "        di = []\n",
    "        district = html.find(\"div\", {\"class\":\"det-title-bottom\"})\n",
    "        for i in district:\n",
    "            di.append(i.findAll()[2].text.strip())\n",
    "            \n",
    "            \n",
    "        room_number = []\n",
    "        room = html.find(\"div\", {\"class\":\"det-title-bottom\"})\n",
    "        for i in room:\n",
    "            room_number.append(i.findAll()[5].text.strip())\n",
    "            \n",
    "        \n",
    "        tot_fl_nr = []\n",
    "        total_floor_number = html.find(\"div\", {\"class\":\"container det-container\"}).find(string=re.compile(\"Kat Sayısı\")).findNext().text.strip(\" Katlı\")\n",
    "        for i in total_floor_number:\n",
    "            tot_fl_nr.append(i)\n",
    "            \n",
    "            \n",
    "        result.append([name, price, area_m2, date, floor_number, age, bath_number, di, room_number, tot_fl_nr])\n",
    "        time.sleep(5)"
   ]
  },
  {
   "cell_type": "code",
   "execution_count": 913,
   "id": "72d80d46",
   "metadata": {
    "ExecuteTime": {
     "end_time": "2023-11-13T18:36:29.662716Z",
     "start_time": "2023-11-13T17:08:53.655820Z"
    }
   },
   "outputs": [],
   "source": [
    "result = []\n",
    "rentals = []\n",
    "for i in range(0, 8):\n",
    "    start = i+1\n",
    "    html = getAndParseURL(\"https://www.hepsiemlak.com/manisa-kiralik/daire?page=% s\" % start)\n",
    "    #html = getAndParseURL(\"https://www.hepsiemlak.com/yunusemre-kiralik/daire?buildingAges=6-10,11-15\")\n",
    "    for sonuc in html.findAll('div', class_= 'links'):              \n",
    "        rentals.append(\"https://www.hepsiemlak.com\"+ sonuc.a['href']) #linkleri topluyor ve yukarıdaki def.te her bir linkin içine giriyor  \n",
    "            \n",
    "    harvest_rentals(rentals, result)   \n",
    "    \n",
    "column = [\"name\", \"price\", \"area_m2\", \"date\", \"floor_number\", \"age\", \"bath_number\", \"district\", \"room_number\", \"total_floor_number\"]\n",
    "dfMatch_unique = pd.DataFrame.from_records(result, columns=column)"
   ]
  },
  {
   "cell_type": "code",
   "execution_count": 915,
   "id": "85b3c608",
   "metadata": {
    "ExecuteTime": {
     "end_time": "2023-11-13T18:39:42.166750Z",
     "start_time": "2023-11-13T18:39:42.119863Z"
    }
   },
   "outputs": [
    {
     "data": {
      "text/html": [
       "<div>\n",
       "<style scoped>\n",
       "    .dataframe tbody tr th:only-of-type {\n",
       "        vertical-align: middle;\n",
       "    }\n",
       "\n",
       "    .dataframe tbody tr th {\n",
       "        vertical-align: top;\n",
       "    }\n",
       "\n",
       "    .dataframe thead th {\n",
       "        text-align: right;\n",
       "    }\n",
       "</style>\n",
       "<table border=\"1\" class=\"dataframe\">\n",
       "  <thead>\n",
       "    <tr style=\"text-align: right;\">\n",
       "      <th></th>\n",
       "      <th>name</th>\n",
       "      <th>price</th>\n",
       "      <th>area_m2</th>\n",
       "      <th>date</th>\n",
       "      <th>floor_number</th>\n",
       "      <th>age</th>\n",
       "      <th>bath_number</th>\n",
       "      <th>district</th>\n",
       "      <th>room_number</th>\n",
       "      <th>total_floor_number</th>\n",
       "    </tr>\n",
       "  </thead>\n",
       "  <tbody>\n",
       "    <tr>\n",
       "      <th>604</th>\n",
       "      <td>AKHİSAR GÜRBÜZ EMLAK TAN KETHÜDA MAHALLESİ HERGELEN MEYDANINDA 5.KAT SOBALI KİRALIK DAİRE</td>\n",
       "      <td>4.000</td>\n",
       "      <td>127</td>\n",
       "      <td>13-11-2023</td>\n",
       "      <td>En Üst Kat</td>\n",
       "      <td>30</td>\n",
       "      <td>1</td>\n",
       "      <td>[Kethüda]</td>\n",
       "      <td>[3 + 1]</td>\n",
       "      <td>[5]</td>\n",
       "    </tr>\n",
       "    <tr>\n",
       "      <th>605</th>\n",
       "      <td>Eski garajın orada kiralık ev Dinçer Mahallesi</td>\n",
       "      <td>8.000</td>\n",
       "      <td>140</td>\n",
       "      <td>09-11-2023</td>\n",
       "      <td>2</td>\n",
       "      <td>18</td>\n",
       "      <td>1</td>\n",
       "      <td>[Dinçer]</td>\n",
       "      <td>[3 + 1]</td>\n",
       "      <td>[4]</td>\n",
       "    </tr>\n",
       "    <tr>\n",
       "      <th>58</th>\n",
       "      <td>M / Ş gayrumenkulden  kiralık daire</td>\n",
       "      <td>7.500</td>\n",
       "      <td>120</td>\n",
       "      <td>09-11-2023</td>\n",
       "      <td>Kot 1</td>\n",
       "      <td>15</td>\n",
       "      <td>1</td>\n",
       "      <td>[Eski Cami]</td>\n",
       "      <td>[3 + 1]</td>\n",
       "      <td>[4]</td>\n",
       "    </tr>\n",
       "    <tr>\n",
       "      <th>250</th>\n",
       "      <td>KİRALIK  2+1  100 m2MURADİYE MAH. Önü Açık Ferah Bir Daire</td>\n",
       "      <td>12.000</td>\n",
       "      <td>105</td>\n",
       "      <td>08-11-2023</td>\n",
       "      <td>2</td>\n",
       "      <td>6</td>\n",
       "      <td>1</td>\n",
       "      <td>[Muradiye]</td>\n",
       "      <td>[2 + 1]</td>\n",
       "      <td>[3]</td>\n",
       "    </tr>\n",
       "    <tr>\n",
       "      <th>585</th>\n",
       "      <td>Kiralik istiklal mh limoncu cami civari zemin kat 2+1 85m2</td>\n",
       "      <td>5.000</td>\n",
       "      <td>90</td>\n",
       "      <td>11-11-2023</td>\n",
       "      <td>Zemin</td>\n",
       "      <td>25</td>\n",
       "      <td>1</td>\n",
       "      <td>[İstiklal]</td>\n",
       "      <td>[2 + 1]</td>\n",
       "      <td>[4]</td>\n",
       "    </tr>\n",
       "  </tbody>\n",
       "</table>\n",
       "</div>"
      ],
      "text/plain": [
       "                                                                                          name  \\\n",
       "604  AKHİSAR GÜRBÜZ EMLAK TAN KETHÜDA MAHALLESİ HERGELEN MEYDANINDA 5.KAT SOBALI KİRALIK DAİRE   \n",
       "605                                             Eski garajın orada kiralık ev Dinçer Mahallesi   \n",
       "58                                                         M / Ş gayrumenkulden  kiralık daire   \n",
       "250                                 KİRALIK  2+1  100 m2MURADİYE MAH. Önü Açık Ferah Bir Daire   \n",
       "585                                 Kiralik istiklal mh limoncu cami civari zemin kat 2+1 85m2   \n",
       "\n",
       "      price area_m2        date floor_number age bath_number     district  \\\n",
       "604   4.000     127  13-11-2023   En Üst Kat  30           1    [Kethüda]   \n",
       "605   8.000     140  09-11-2023            2  18           1     [Dinçer]   \n",
       "58    7.500     120  09-11-2023        Kot 1  15           1  [Eski Cami]   \n",
       "250  12.000     105  08-11-2023            2   6           1   [Muradiye]   \n",
       "585   5.000      90  11-11-2023        Zemin  25           1   [İstiklal]   \n",
       "\n",
       "    room_number total_floor_number  \n",
       "604     [3 + 1]                [5]  \n",
       "605     [3 + 1]                [4]  \n",
       "58      [3 + 1]                [4]  \n",
       "250     [2 + 1]                [3]  \n",
       "585     [2 + 1]                [4]  "
      ]
     },
     "execution_count": 915,
     "metadata": {},
     "output_type": "execute_result"
    }
   ],
   "source": [
    "dfMatch_unique.sample(5)"
   ]
  },
  {
   "cell_type": "code",
   "execution_count": 916,
   "id": "267db073",
   "metadata": {
    "ExecuteTime": {
     "end_time": "2023-11-13T18:40:00.176214Z",
     "start_time": "2023-11-13T18:40:00.150604Z"
    }
   },
   "outputs": [],
   "source": [
    "dfMatch_unique.to_csv(\"dfMatch_unique.csv\")"
   ]
  },
  {
   "cell_type": "code",
   "execution_count": 425,
   "id": "a719c30a",
   "metadata": {
    "ExecuteTime": {
     "end_time": "2023-11-19T15:12:15.670201Z",
     "start_time": "2023-11-19T15:12:15.630264Z"
    }
   },
   "outputs": [],
   "source": [
    "df = pd.read_csv(\"dfMatch_unique.csv\", index_col=0)"
   ]
  },
  {
   "cell_type": "markdown",
   "id": "60b82988",
   "metadata": {},
   "source": [
    "# Preprocessing"
   ]
  },
  {
   "cell_type": "code",
   "execution_count": 426,
   "id": "97c37ad0",
   "metadata": {
    "ExecuteTime": {
     "end_time": "2023-11-19T15:12:23.576056Z",
     "start_time": "2023-11-19T15:12:23.550141Z"
    },
    "scrolled": true
   },
   "outputs": [
    {
     "data": {
      "text/html": [
       "<div>\n",
       "<style scoped>\n",
       "    .dataframe tbody tr th:only-of-type {\n",
       "        vertical-align: middle;\n",
       "    }\n",
       "\n",
       "    .dataframe tbody tr th {\n",
       "        vertical-align: top;\n",
       "    }\n",
       "\n",
       "    .dataframe thead th {\n",
       "        text-align: right;\n",
       "    }\n",
       "</style>\n",
       "<table border=\"1\" class=\"dataframe\">\n",
       "  <thead>\n",
       "    <tr style=\"text-align: right;\">\n",
       "      <th></th>\n",
       "      <th>name</th>\n",
       "      <th>price</th>\n",
       "      <th>area_m2</th>\n",
       "      <th>date</th>\n",
       "      <th>floor_number</th>\n",
       "      <th>age</th>\n",
       "      <th>bath_number</th>\n",
       "      <th>district</th>\n",
       "      <th>room_number</th>\n",
       "      <th>total_floor_number</th>\n",
       "    </tr>\n",
       "  </thead>\n",
       "  <tbody>\n",
       "    <tr>\n",
       "      <th>0</th>\n",
       "      <td>KİRALIK 3+1 MANİSA AKGEDİK 2. KAT ARAKAT 3+1 1...</td>\n",
       "      <td>13.000</td>\n",
       "      <td>130.0</td>\n",
       "      <td>13-11-2023</td>\n",
       "      <td>2</td>\n",
       "      <td>4</td>\n",
       "      <td>1</td>\n",
       "      <td>['Akgedik']</td>\n",
       "      <td>['3 + 1']</td>\n",
       "      <td>['4']</td>\n",
       "    </tr>\n",
       "    <tr>\n",
       "      <th>1</th>\n",
       "      <td>KİRALIK 3+1 140 m22. Kat Full özellikli İBRAHİ...</td>\n",
       "      <td>14.000</td>\n",
       "      <td>145.0</td>\n",
       "      <td>13-11-2023</td>\n",
       "      <td>2</td>\n",
       "      <td>17</td>\n",
       "      <td>1</td>\n",
       "      <td>['İbrahimçelebi']</td>\n",
       "      <td>['3 + 1']</td>\n",
       "      <td>['5']</td>\n",
       "    </tr>\n",
       "    <tr>\n",
       "      <th>2</th>\n",
       "      <td>MANİSA MERKEZDE EŞYALI 1+1 KİRALIK DAİRE</td>\n",
       "      <td>9.750</td>\n",
       "      <td>75.0</td>\n",
       "      <td>13-11-2023</td>\n",
       "      <td>Yüksek Giriş</td>\n",
       "      <td>30</td>\n",
       "      <td>1</td>\n",
       "      <td>['Mimar Sinan']</td>\n",
       "      <td>['1 + 1']</td>\n",
       "      <td>['5']</td>\n",
       "    </tr>\n",
       "    <tr>\n",
       "      <th>3</th>\n",
       "      <td>Kiralık Eşyalı Daire Manisa Karaali villaların...</td>\n",
       "      <td>15.500</td>\n",
       "      <td>85.0</td>\n",
       "      <td>13-11-2023</td>\n",
       "      <td>Ara Kat</td>\n",
       "      <td>3</td>\n",
       "      <td>1</td>\n",
       "      <td>['Karaali']</td>\n",
       "      <td>['1 + 1']</td>\n",
       "      <td>['3']</td>\n",
       "    </tr>\n",
       "    <tr>\n",
       "      <th>4</th>\n",
       "      <td>Kiralık Daire Manisa 2.Anafartalar Mah</td>\n",
       "      <td>12.500</td>\n",
       "      <td>90.0</td>\n",
       "      <td>13-11-2023</td>\n",
       "      <td>3</td>\n",
       "      <td>28</td>\n",
       "      <td>1</td>\n",
       "      <td>['2. Anafartalar']</td>\n",
       "      <td>['2 + 1']</td>\n",
       "      <td>['6']</td>\n",
       "    </tr>\n",
       "  </tbody>\n",
       "</table>\n",
       "</div>"
      ],
      "text/plain": [
       "                                                name   price  area_m2  \\\n",
       "0  KİRALIK 3+1 MANİSA AKGEDİK 2. KAT ARAKAT 3+1 1...  13.000    130.0   \n",
       "1  KİRALIK 3+1 140 m22. Kat Full özellikli İBRAHİ...  14.000    145.0   \n",
       "2           MANİSA MERKEZDE EŞYALI 1+1 KİRALIK DAİRE   9.750     75.0   \n",
       "3  Kiralık Eşyalı Daire Manisa Karaali villaların...  15.500     85.0   \n",
       "4             Kiralık Daire Manisa 2.Anafartalar Mah  12.500     90.0   \n",
       "\n",
       "         date  floor_number age  bath_number            district room_number  \\\n",
       "0  13-11-2023             2   4            1         ['Akgedik']   ['3 + 1']   \n",
       "1  13-11-2023             2  17            1   ['İbrahimçelebi']   ['3 + 1']   \n",
       "2  13-11-2023  Yüksek Giriş  30            1     ['Mimar Sinan']   ['1 + 1']   \n",
       "3  13-11-2023       Ara Kat   3            1         ['Karaali']   ['1 + 1']   \n",
       "4  13-11-2023             3  28            1  ['2. Anafartalar']   ['2 + 1']   \n",
       "\n",
       "  total_floor_number  \n",
       "0              ['4']  \n",
       "1              ['5']  \n",
       "2              ['5']  \n",
       "3              ['3']  \n",
       "4              ['6']  "
      ]
     },
     "execution_count": 426,
     "metadata": {},
     "output_type": "execute_result"
    }
   ],
   "source": [
    "df.head()"
   ]
  },
  {
   "cell_type": "code",
   "execution_count": 427,
   "id": "d6213818",
   "metadata": {
    "ExecuteTime": {
     "end_time": "2023-11-19T15:12:23.600132Z",
     "start_time": "2023-11-19T15:12:23.582088Z"
    }
   },
   "outputs": [
    {
     "data": {
      "text/plain": [
       "(864, 10)"
      ]
     },
     "execution_count": 427,
     "metadata": {},
     "output_type": "execute_result"
    }
   ],
   "source": [
    "df.shape"
   ]
  },
  {
   "cell_type": "code",
   "execution_count": 428,
   "id": "bb1cdb62",
   "metadata": {
    "ExecuteTime": {
     "end_time": "2023-11-19T15:12:23.626072Z",
     "start_time": "2023-11-19T15:12:23.606044Z"
    }
   },
   "outputs": [
    {
     "data": {
      "text/plain": [
       "Index(['name', 'price', 'area_m2', 'date', 'floor_number', 'age',\n",
       "       'bath_number', 'district', 'room_number', 'total_floor_number'],\n",
       "      dtype='object')"
      ]
     },
     "execution_count": 428,
     "metadata": {},
     "output_type": "execute_result"
    }
   ],
   "source": [
    "df.columns"
   ]
  },
  {
   "cell_type": "code",
   "execution_count": 429,
   "id": "9f2c2243",
   "metadata": {
    "ExecuteTime": {
     "end_time": "2023-11-19T15:12:23.664625Z",
     "start_time": "2023-11-19T15:12:23.636515Z"
    }
   },
   "outputs": [],
   "source": [
    "df.drop_duplicates(inplace=True, ignore_index=True)"
   ]
  },
  {
   "cell_type": "code",
   "execution_count": 430,
   "id": "a4e869bb",
   "metadata": {
    "ExecuteTime": {
     "end_time": "2023-11-19T15:12:23.682321Z",
     "start_time": "2023-11-19T15:12:23.669896Z"
    }
   },
   "outputs": [
    {
     "data": {
      "text/plain": [
       "(192, 10)"
      ]
     },
     "execution_count": 430,
     "metadata": {},
     "output_type": "execute_result"
    }
   ],
   "source": [
    "df.shape"
   ]
  },
  {
   "cell_type": "code",
   "execution_count": 431,
   "id": "d70c5c23",
   "metadata": {
    "ExecuteTime": {
     "end_time": "2023-11-19T15:12:23.709227Z",
     "start_time": "2023-11-19T15:12:23.685923Z"
    }
   },
   "outputs": [
    {
     "data": {
      "text/plain": [
       "False"
      ]
     },
     "execution_count": 431,
     "metadata": {},
     "output_type": "execute_result"
    }
   ],
   "source": [
    "df.total_floor_number.isnull().any()"
   ]
  },
  {
   "cell_type": "code",
   "execution_count": 432,
   "id": "f102966d",
   "metadata": {
    "ExecuteTime": {
     "end_time": "2023-11-19T15:12:23.733517Z",
     "start_time": "2023-11-19T15:12:23.712790Z"
    }
   },
   "outputs": [
    {
     "name": "stdout",
     "output_type": "stream",
     "text": [
      "<class 'pandas.core.frame.DataFrame'>\n",
      "RangeIndex: 192 entries, 0 to 191\n",
      "Data columns (total 10 columns):\n",
      " #   Column              Non-Null Count  Dtype  \n",
      "---  ------              --------------  -----  \n",
      " 0   name                192 non-null    object \n",
      " 1   price               192 non-null    object \n",
      " 2   area_m2             192 non-null    float64\n",
      " 3   date                192 non-null    object \n",
      " 4   floor_number        192 non-null    object \n",
      " 5   age                 192 non-null    object \n",
      " 6   bath_number         192 non-null    int64  \n",
      " 7   district            192 non-null    object \n",
      " 8   room_number         192 non-null    object \n",
      " 9   total_floor_number  192 non-null    object \n",
      "dtypes: float64(1), int64(1), object(8)\n",
      "memory usage: 15.1+ KB\n"
     ]
    }
   ],
   "source": [
    "df.info()"
   ]
  },
  {
   "cell_type": "markdown",
   "id": "33f09b3c",
   "metadata": {},
   "source": [
    "## floor_number and total_floor_number"
   ]
  },
  {
   "cell_type": "code",
   "execution_count": 433,
   "id": "7b6ce724",
   "metadata": {
    "ExecuteTime": {
     "end_time": "2023-11-19T15:12:23.750024Z",
     "start_time": "2023-11-19T15:12:23.737315Z"
    }
   },
   "outputs": [],
   "source": [
    "for i in df.total_floor_number:\n",
    "    i = str(i)\n",
    "    \n",
    "#working with strings are easier than lists"
   ]
  },
  {
   "cell_type": "code",
   "execution_count": 434,
   "id": "f8a383b4",
   "metadata": {
    "ExecuteTime": {
     "end_time": "2023-11-19T15:12:23.767784Z",
     "start_time": "2023-11-19T15:12:23.753819Z"
    }
   },
   "outputs": [],
   "source": [
    "liste1 = []\n",
    "for i in df.total_floor_number:\n",
    "    if len(i) == 10:\n",
    "        i = np.nan\n",
    "        liste1.append(i)\n",
    "    elif len(i) != 10:\n",
    "        liste1.append(i)\n",
    "        \n",
    "df[\"total_floor_number\"] = liste1"
   ]
  },
  {
   "cell_type": "code",
   "execution_count": 435,
   "id": "98d4495a",
   "metadata": {
    "ExecuteTime": {
     "end_time": "2023-11-19T15:12:23.789384Z",
     "start_time": "2023-11-19T15:12:23.772818Z"
    }
   },
   "outputs": [],
   "source": [
    "df[\"total_floor_number\"] = df[\"total_floor_number\"].str.strip(\"[\").str.strip(\"]\")\n",
    "df[\"total_floor_number\"] = df[\"total_floor_number\"].str.strip(\"'\").str.strip(\"'\")\n",
    "df[\"total_floor_number\"] = df[\"total_floor_number\"].astype(float)"
   ]
  },
  {
   "cell_type": "code",
   "execution_count": 436,
   "id": "7f9c03cc",
   "metadata": {
    "ExecuteTime": {
     "end_time": "2023-11-19T15:12:23.798886Z",
     "start_time": "2023-11-19T15:12:23.792432Z"
    }
   },
   "outputs": [
    {
     "data": {
      "text/plain": [
       "True"
      ]
     },
     "execution_count": 436,
     "metadata": {},
     "output_type": "execute_result"
    }
   ],
   "source": [
    "df[\"total_floor_number\"].isnull().any()"
   ]
  },
  {
   "cell_type": "code",
   "execution_count": 437,
   "id": "af646964",
   "metadata": {
    "ExecuteTime": {
     "end_time": "2023-11-19T15:12:23.816847Z",
     "start_time": "2023-11-19T15:12:23.801685Z"
    }
   },
   "outputs": [
    {
     "data": {
      "text/plain": [
       "5.0    56\n",
       "4.0    36\n",
       "3.0    27\n",
       "2.0    25\n",
       "6.0    12\n",
       "8.0     6\n",
       "7.0     3\n",
       "1.0     1\n",
       "Name: total_floor_number, dtype: int64"
      ]
     },
     "execution_count": 437,
     "metadata": {},
     "output_type": "execute_result"
    }
   ],
   "source": [
    "df[\"total_floor_number\"].value_counts()"
   ]
  },
  {
   "cell_type": "code",
   "execution_count": 438,
   "id": "03fb5438",
   "metadata": {
    "ExecuteTime": {
     "end_time": "2023-11-19T15:12:23.847212Z",
     "start_time": "2023-11-19T15:12:23.819632Z"
    },
    "scrolled": true
   },
   "outputs": [
    {
     "data": {
      "text/html": [
       "<div>\n",
       "<style scoped>\n",
       "    .dataframe tbody tr th:only-of-type {\n",
       "        vertical-align: middle;\n",
       "    }\n",
       "\n",
       "    .dataframe tbody tr th {\n",
       "        vertical-align: top;\n",
       "    }\n",
       "\n",
       "    .dataframe thead th {\n",
       "        text-align: right;\n",
       "    }\n",
       "</style>\n",
       "<table border=\"1\" class=\"dataframe\">\n",
       "  <thead>\n",
       "    <tr style=\"text-align: right;\">\n",
       "      <th></th>\n",
       "      <th>name</th>\n",
       "      <th>price</th>\n",
       "      <th>area_m2</th>\n",
       "      <th>date</th>\n",
       "      <th>floor_number</th>\n",
       "      <th>age</th>\n",
       "      <th>bath_number</th>\n",
       "      <th>district</th>\n",
       "      <th>room_number</th>\n",
       "      <th>total_floor_number</th>\n",
       "    </tr>\n",
       "  </thead>\n",
       "  <tbody>\n",
       "    <tr>\n",
       "      <th>14</th>\n",
       "      <td>Akhisar Atatürk Mahallesi'nde 3+1 Kiralık Daire</td>\n",
       "      <td>13.000</td>\n",
       "      <td>138.0</td>\n",
       "      <td>13-11-2023</td>\n",
       "      <td>4</td>\n",
       "      <td>1</td>\n",
       "      <td>2</td>\n",
       "      <td>['Atatürk']</td>\n",
       "      <td>['3 + 1']</td>\n",
       "      <td>NaN</td>\n",
       "    </tr>\n",
       "    <tr>\n",
       "      <th>30</th>\n",
       "      <td>GÜZELYURT MAH.EŞYALI KİRALIK 1+1</td>\n",
       "      <td>12.000</td>\n",
       "      <td>75.0</td>\n",
       "      <td>02-11-2023</td>\n",
       "      <td>10</td>\n",
       "      <td>5</td>\n",
       "      <td>1</td>\n",
       "      <td>['Güzelyurt']</td>\n",
       "      <td>['1 + 1']</td>\n",
       "      <td>NaN</td>\n",
       "    </tr>\n",
       "    <tr>\n",
       "      <th>37</th>\n",
       "      <td>Manisa Meydan projesinde Kiralık 1+1 Bahçe Katı</td>\n",
       "      <td>12.500</td>\n",
       "      <td>45.0</td>\n",
       "      <td>23-09-2023</td>\n",
       "      <td>Bahçe Katı</td>\n",
       "      <td>Sıfır Bina</td>\n",
       "      <td>1</td>\n",
       "      <td>['Uncubozköy']</td>\n",
       "      <td>['1 + 1']</td>\n",
       "      <td>NaN</td>\n",
       "    </tr>\n",
       "    <tr>\n",
       "      <th>45</th>\n",
       "      <td>Manisa Meydan Sitesi Yarı Eşyalı 1+1 Daire Kir...</td>\n",
       "      <td>11.000</td>\n",
       "      <td>48.0</td>\n",
       "      <td>11-11-2023</td>\n",
       "      <td>9</td>\n",
       "      <td>Sıfır Bina</td>\n",
       "      <td>1</td>\n",
       "      <td>['Uncubozköy']</td>\n",
       "      <td>['1 + 1']</td>\n",
       "      <td>NaN</td>\n",
       "    </tr>\n",
       "    <tr>\n",
       "      <th>46</th>\n",
       "      <td>Manisa Meydan sitesinde 1+1 kiralık daire</td>\n",
       "      <td>14.000</td>\n",
       "      <td>56.0</td>\n",
       "      <td>06-11-2023</td>\n",
       "      <td>9</td>\n",
       "      <td>Sıfır Bina</td>\n",
       "      <td>1</td>\n",
       "      <td>['Uncubozköy']</td>\n",
       "      <td>['1 + 1']</td>\n",
       "      <td>NaN</td>\n",
       "    </tr>\n",
       "    <tr>\n",
       "      <th>52</th>\n",
       "      <td>Manisa Startkey Elit2'den Park Manzara Evleri ...</td>\n",
       "      <td>20.000</td>\n",
       "      <td>160.0</td>\n",
       "      <td>07-11-2023</td>\n",
       "      <td>9</td>\n",
       "      <td>7</td>\n",
       "      <td>2</td>\n",
       "      <td>['Cumhuriyet']</td>\n",
       "      <td>['3 + 1']</td>\n",
       "      <td>NaN</td>\n",
       "    </tr>\n",
       "    <tr>\n",
       "      <th>60</th>\n",
       "      <td>ÖZGÜN GM'DEN MANİSA MEYDAN'DA EŞYALI KİRALIK 1+1</td>\n",
       "      <td>14.000</td>\n",
       "      <td>45.0</td>\n",
       "      <td>09-11-2023</td>\n",
       "      <td>9</td>\n",
       "      <td>Sıfır Bina</td>\n",
       "      <td>1</td>\n",
       "      <td>['Uncubozköy']</td>\n",
       "      <td>['1 + 1']</td>\n",
       "      <td>NaN</td>\n",
       "    </tr>\n",
       "    <tr>\n",
       "      <th>84</th>\n",
       "      <td>MANİSA MEYDAN DOĞA VE ŞEHİR MANZARALI EŞYALI 1...</td>\n",
       "      <td>14.000</td>\n",
       "      <td>45.0</td>\n",
       "      <td>06-11-2023</td>\n",
       "      <td>11</td>\n",
       "      <td>Sıfır Bina</td>\n",
       "      <td>1</td>\n",
       "      <td>['Uncubozköy']</td>\n",
       "      <td>['1 + 1']</td>\n",
       "      <td>NaN</td>\n",
       "    </tr>\n",
       "    <tr>\n",
       "      <th>89</th>\n",
       "      <td>BEYZA GM'DEN MANİSA MEYDAN PROJESİNDE EŞYALI K...</td>\n",
       "      <td>13.500</td>\n",
       "      <td>45.0</td>\n",
       "      <td>15-10-2023</td>\n",
       "      <td>8</td>\n",
       "      <td>Sıfır Bina</td>\n",
       "      <td>1</td>\n",
       "      <td>['Uncubozköy']</td>\n",
       "      <td>['1 + 1']</td>\n",
       "      <td>NaN</td>\n",
       "    </tr>\n",
       "    <tr>\n",
       "      <th>96</th>\n",
       "      <td>MANİSA MEYDAN HAVUZ VE PEYZAJ MANZARALI FIRSAT...</td>\n",
       "      <td>12.000</td>\n",
       "      <td>45.0</td>\n",
       "      <td>02-11-2023</td>\n",
       "      <td>Ara Kat</td>\n",
       "      <td>Sıfır Bina</td>\n",
       "      <td>1</td>\n",
       "      <td>['Uncubozköy']</td>\n",
       "      <td>['1 + 1']</td>\n",
       "      <td>NaN</td>\n",
       "    </tr>\n",
       "    <tr>\n",
       "      <th>106</th>\n",
       "      <td>3+1 16.kat full 170 M2  kiralık</td>\n",
       "      <td>9.000</td>\n",
       "      <td>170.0</td>\n",
       "      <td>12-11-2023</td>\n",
       "      <td>16</td>\n",
       "      <td>Sıfır Bina</td>\n",
       "      <td>2</td>\n",
       "      <td>['Hürriyet']</td>\n",
       "      <td>['3 + 1']</td>\n",
       "      <td>NaN</td>\n",
       "    </tr>\n",
       "    <tr>\n",
       "      <th>111</th>\n",
       "      <td>Kiralık her yere yakın merkezde daire</td>\n",
       "      <td>14.000</td>\n",
       "      <td>110.0</td>\n",
       "      <td>02-11-2023</td>\n",
       "      <td>Ara Kat</td>\n",
       "      <td>20</td>\n",
       "      <td>1</td>\n",
       "      <td>['Tevfikiye']</td>\n",
       "      <td>['3 + 1']</td>\n",
       "      <td>NaN</td>\n",
       "    </tr>\n",
       "    <tr>\n",
       "      <th>115</th>\n",
       "      <td>Manisa mega1 kombili asansorlu otoparklı Kiral...</td>\n",
       "      <td>11.500</td>\n",
       "      <td>130.0</td>\n",
       "      <td>11-11-2023</td>\n",
       "      <td>10</td>\n",
       "      <td>18</td>\n",
       "      <td>1</td>\n",
       "      <td>['Hafsa Sultan']</td>\n",
       "      <td>['3 + 1']</td>\n",
       "      <td>NaN</td>\n",
       "    </tr>\n",
       "    <tr>\n",
       "      <th>119</th>\n",
       "      <td>Manisa Meydan Projesi'nde Havuz Cepheli Bahçe ...</td>\n",
       "      <td>12.750</td>\n",
       "      <td>55.0</td>\n",
       "      <td>09-11-2023</td>\n",
       "      <td>Bahçe Katı</td>\n",
       "      <td>Sıfır Bina</td>\n",
       "      <td>1</td>\n",
       "      <td>['Uncubozköy']</td>\n",
       "      <td>['1 + 1']</td>\n",
       "      <td>NaN</td>\n",
       "    </tr>\n",
       "    <tr>\n",
       "      <th>123</th>\n",
       "      <td>Manisa Meydan Sitesinde Kiralık 1+1 Daire</td>\n",
       "      <td>11.000</td>\n",
       "      <td>45.0</td>\n",
       "      <td>23-10-2023</td>\n",
       "      <td>13</td>\n",
       "      <td>Sıfır Bina</td>\n",
       "      <td>1</td>\n",
       "      <td>['Uncubozköy']</td>\n",
       "      <td>['1 + 1']</td>\n",
       "      <td>NaN</td>\n",
       "    </tr>\n",
       "    <tr>\n",
       "      <th>128</th>\n",
       "      <td>Manisa Meydan Sitesinde Eşyalı Kiralık 1+1 Daire</td>\n",
       "      <td>15.750</td>\n",
       "      <td>48.0</td>\n",
       "      <td>23-10-2023</td>\n",
       "      <td>5</td>\n",
       "      <td>Sıfır Bina</td>\n",
       "      <td>1</td>\n",
       "      <td>['Uncubozköy']</td>\n",
       "      <td>['1 + 1']</td>\n",
       "      <td>NaN</td>\n",
       "    </tr>\n",
       "    <tr>\n",
       "      <th>132</th>\n",
       "      <td>Manisa Meydan Sitesi Havuz Cepheli Kiralık 1+1...</td>\n",
       "      <td>11.000</td>\n",
       "      <td>45.0</td>\n",
       "      <td>23-10-2023</td>\n",
       "      <td>6</td>\n",
       "      <td>Sıfır Bina</td>\n",
       "      <td>1</td>\n",
       "      <td>['Uncubozköy']</td>\n",
       "      <td>['1 + 1']</td>\n",
       "      <td>NaN</td>\n",
       "    </tr>\n",
       "    <tr>\n",
       "      <th>136</th>\n",
       "      <td>Manisa Meydan Sitesi Havuz Cephe Kiralık 1+1 D...</td>\n",
       "      <td>12.500</td>\n",
       "      <td>45.0</td>\n",
       "      <td>21-09-2023</td>\n",
       "      <td>3</td>\n",
       "      <td>Sıfır Bina</td>\n",
       "      <td>1</td>\n",
       "      <td>['Uncubozköy']</td>\n",
       "      <td>['1 + 1']</td>\n",
       "      <td>NaN</td>\n",
       "    </tr>\n",
       "    <tr>\n",
       "      <th>141</th>\n",
       "      <td>Manisa Meydan Sitesinde Kiralık 1+1 Daire</td>\n",
       "      <td>11.500</td>\n",
       "      <td>48.0</td>\n",
       "      <td>23-10-2023</td>\n",
       "      <td>4</td>\n",
       "      <td>Sıfır Bina</td>\n",
       "      <td>1</td>\n",
       "      <td>['Uncubozköy']</td>\n",
       "      <td>['1 + 1']</td>\n",
       "      <td>NaN</td>\n",
       "    </tr>\n",
       "    <tr>\n",
       "      <th>143</th>\n",
       "      <td>ERSOY GAYRİMENKUL'DEN HAVUZLU SİTEDE KİRALIK E...</td>\n",
       "      <td>12.250</td>\n",
       "      <td>70.0</td>\n",
       "      <td>16-10-2023</td>\n",
       "      <td>5</td>\n",
       "      <td>5</td>\n",
       "      <td>1</td>\n",
       "      <td>['Güzelyurt']</td>\n",
       "      <td>['1 + 1']</td>\n",
       "      <td>NaN</td>\n",
       "    </tr>\n",
       "    <tr>\n",
       "      <th>147</th>\n",
       "      <td>Manisa Meydan Sitesi 1+1 Eşyalı Havuz Cephe Ki...</td>\n",
       "      <td>14.500</td>\n",
       "      <td>45.0</td>\n",
       "      <td>23-10-2023</td>\n",
       "      <td>8</td>\n",
       "      <td>Sıfır Bina</td>\n",
       "      <td>1</td>\n",
       "      <td>['Uncubozköy']</td>\n",
       "      <td>['1 + 1']</td>\n",
       "      <td>NaN</td>\n",
       "    </tr>\n",
       "    <tr>\n",
       "      <th>168</th>\n",
       "      <td>KOMISYON YOK.SAHIBINDEN</td>\n",
       "      <td>22.000</td>\n",
       "      <td>155.0</td>\n",
       "      <td>01-11-2023</td>\n",
       "      <td>5</td>\n",
       "      <td>7</td>\n",
       "      <td>2</td>\n",
       "      <td>['Güzelyurt']</td>\n",
       "      <td>['3 + 1']</td>\n",
       "      <td>NaN</td>\n",
       "    </tr>\n",
       "    <tr>\n",
       "      <th>174</th>\n",
       "      <td>BEYZA GM den MANİSA MEYDAN POJESİNDE KİRALIK 1...</td>\n",
       "      <td>12.000</td>\n",
       "      <td>45.0</td>\n",
       "      <td>05-09-2023</td>\n",
       "      <td>12</td>\n",
       "      <td>Sıfır Bina</td>\n",
       "      <td>1</td>\n",
       "      <td>['Uncubozköy']</td>\n",
       "      <td>['1 + 1']</td>\n",
       "      <td>NaN</td>\n",
       "    </tr>\n",
       "    <tr>\n",
       "      <th>178</th>\n",
       "      <td>MANİSA'NIN EN PRESTİJLİ PROJESİNDEN 4+1 SIFIR ...</td>\n",
       "      <td>35.000</td>\n",
       "      <td>179.0</td>\n",
       "      <td>16-10-2023</td>\n",
       "      <td>7</td>\n",
       "      <td>Sıfır Bina</td>\n",
       "      <td>2</td>\n",
       "      <td>['Güzelyurt']</td>\n",
       "      <td>['4 + 1']</td>\n",
       "      <td>NaN</td>\n",
       "    </tr>\n",
       "    <tr>\n",
       "      <th>187</th>\n",
       "      <td>Manisa Meydan Sitesinde Kiralık 1+1 Daire</td>\n",
       "      <td>10.000</td>\n",
       "      <td>48.0</td>\n",
       "      <td>09-10-2023</td>\n",
       "      <td>11</td>\n",
       "      <td>Sıfır Bina</td>\n",
       "      <td>1</td>\n",
       "      <td>['Uncubozköy']</td>\n",
       "      <td>['1 + 1']</td>\n",
       "      <td>NaN</td>\n",
       "    </tr>\n",
       "    <tr>\n",
       "      <th>189</th>\n",
       "      <td>Manisa Meydan Sitesinde Full Eşyalı Kiralık 1+...</td>\n",
       "      <td>14.000</td>\n",
       "      <td>45.0</td>\n",
       "      <td>09-10-2023</td>\n",
       "      <td>13</td>\n",
       "      <td>Sıfır Bina</td>\n",
       "      <td>1</td>\n",
       "      <td>['Uncubozköy']</td>\n",
       "      <td>['1 + 1']</td>\n",
       "      <td>NaN</td>\n",
       "    </tr>\n",
       "  </tbody>\n",
       "</table>\n",
       "</div>"
      ],
      "text/plain": [
       "                                                  name   price  area_m2  \\\n",
       "14     Akhisar Atatürk Mahallesi'nde 3+1 Kiralık Daire  13.000    138.0   \n",
       "30                    GÜZELYURT MAH.EŞYALI KİRALIK 1+1  12.000     75.0   \n",
       "37     Manisa Meydan projesinde Kiralık 1+1 Bahçe Katı  12.500     45.0   \n",
       "45   Manisa Meydan Sitesi Yarı Eşyalı 1+1 Daire Kir...  11.000     48.0   \n",
       "46           Manisa Meydan sitesinde 1+1 kiralık daire  14.000     56.0   \n",
       "52   Manisa Startkey Elit2'den Park Manzara Evleri ...  20.000    160.0   \n",
       "60    ÖZGÜN GM'DEN MANİSA MEYDAN'DA EŞYALI KİRALIK 1+1  14.000     45.0   \n",
       "84   MANİSA MEYDAN DOĞA VE ŞEHİR MANZARALI EŞYALI 1...  14.000     45.0   \n",
       "89   BEYZA GM'DEN MANİSA MEYDAN PROJESİNDE EŞYALI K...  13.500     45.0   \n",
       "96   MANİSA MEYDAN HAVUZ VE PEYZAJ MANZARALI FIRSAT...  12.000     45.0   \n",
       "106                    3+1 16.kat full 170 M2  kiralık   9.000    170.0   \n",
       "111              Kiralık her yere yakın merkezde daire  14.000    110.0   \n",
       "115  Manisa mega1 kombili asansorlu otoparklı Kiral...  11.500    130.0   \n",
       "119  Manisa Meydan Projesi'nde Havuz Cepheli Bahçe ...  12.750     55.0   \n",
       "123          Manisa Meydan Sitesinde Kiralık 1+1 Daire  11.000     45.0   \n",
       "128   Manisa Meydan Sitesinde Eşyalı Kiralık 1+1 Daire  15.750     48.0   \n",
       "132  Manisa Meydan Sitesi Havuz Cepheli Kiralık 1+1...  11.000     45.0   \n",
       "136  Manisa Meydan Sitesi Havuz Cephe Kiralık 1+1 D...  12.500     45.0   \n",
       "141          Manisa Meydan Sitesinde Kiralık 1+1 Daire  11.500     48.0   \n",
       "143  ERSOY GAYRİMENKUL'DEN HAVUZLU SİTEDE KİRALIK E...  12.250     70.0   \n",
       "147  Manisa Meydan Sitesi 1+1 Eşyalı Havuz Cephe Ki...  14.500     45.0   \n",
       "168                            KOMISYON YOK.SAHIBINDEN  22.000    155.0   \n",
       "174  BEYZA GM den MANİSA MEYDAN POJESİNDE KİRALIK 1...  12.000     45.0   \n",
       "178  MANİSA'NIN EN PRESTİJLİ PROJESİNDEN 4+1 SIFIR ...  35.000    179.0   \n",
       "187          Manisa Meydan Sitesinde Kiralık 1+1 Daire  10.000     48.0   \n",
       "189  Manisa Meydan Sitesinde Full Eşyalı Kiralık 1+...  14.000     45.0   \n",
       "\n",
       "           date floor_number         age  bath_number          district  \\\n",
       "14   13-11-2023            4           1            2       ['Atatürk']   \n",
       "30   02-11-2023           10           5            1     ['Güzelyurt']   \n",
       "37   23-09-2023   Bahçe Katı  Sıfır Bina            1    ['Uncubozköy']   \n",
       "45   11-11-2023            9  Sıfır Bina            1    ['Uncubozköy']   \n",
       "46   06-11-2023            9  Sıfır Bina            1    ['Uncubozköy']   \n",
       "52   07-11-2023            9           7            2    ['Cumhuriyet']   \n",
       "60   09-11-2023            9  Sıfır Bina            1    ['Uncubozköy']   \n",
       "84   06-11-2023           11  Sıfır Bina            1    ['Uncubozköy']   \n",
       "89   15-10-2023            8  Sıfır Bina            1    ['Uncubozköy']   \n",
       "96   02-11-2023      Ara Kat  Sıfır Bina            1    ['Uncubozköy']   \n",
       "106  12-11-2023           16  Sıfır Bina            2      ['Hürriyet']   \n",
       "111  02-11-2023      Ara Kat          20            1     ['Tevfikiye']   \n",
       "115  11-11-2023           10          18            1  ['Hafsa Sultan']   \n",
       "119  09-11-2023   Bahçe Katı  Sıfır Bina            1    ['Uncubozköy']   \n",
       "123  23-10-2023           13  Sıfır Bina            1    ['Uncubozköy']   \n",
       "128  23-10-2023            5  Sıfır Bina            1    ['Uncubozköy']   \n",
       "132  23-10-2023            6  Sıfır Bina            1    ['Uncubozköy']   \n",
       "136  21-09-2023            3  Sıfır Bina            1    ['Uncubozköy']   \n",
       "141  23-10-2023            4  Sıfır Bina            1    ['Uncubozköy']   \n",
       "143  16-10-2023            5           5            1     ['Güzelyurt']   \n",
       "147  23-10-2023            8  Sıfır Bina            1    ['Uncubozköy']   \n",
       "168  01-11-2023            5           7            2     ['Güzelyurt']   \n",
       "174  05-09-2023           12  Sıfır Bina            1    ['Uncubozköy']   \n",
       "178  16-10-2023            7  Sıfır Bina            2     ['Güzelyurt']   \n",
       "187  09-10-2023           11  Sıfır Bina            1    ['Uncubozköy']   \n",
       "189  09-10-2023           13  Sıfır Bina            1    ['Uncubozköy']   \n",
       "\n",
       "    room_number  total_floor_number  \n",
       "14    ['3 + 1']                 NaN  \n",
       "30    ['1 + 1']                 NaN  \n",
       "37    ['1 + 1']                 NaN  \n",
       "45    ['1 + 1']                 NaN  \n",
       "46    ['1 + 1']                 NaN  \n",
       "52    ['3 + 1']                 NaN  \n",
       "60    ['1 + 1']                 NaN  \n",
       "84    ['1 + 1']                 NaN  \n",
       "89    ['1 + 1']                 NaN  \n",
       "96    ['1 + 1']                 NaN  \n",
       "106   ['3 + 1']                 NaN  \n",
       "111   ['3 + 1']                 NaN  \n",
       "115   ['3 + 1']                 NaN  \n",
       "119   ['1 + 1']                 NaN  \n",
       "123   ['1 + 1']                 NaN  \n",
       "128   ['1 + 1']                 NaN  \n",
       "132   ['1 + 1']                 NaN  \n",
       "136   ['1 + 1']                 NaN  \n",
       "141   ['1 + 1']                 NaN  \n",
       "143   ['1 + 1']                 NaN  \n",
       "147   ['1 + 1']                 NaN  \n",
       "168   ['3 + 1']                 NaN  \n",
       "174   ['1 + 1']                 NaN  \n",
       "178   ['4 + 1']                 NaN  \n",
       "187   ['1 + 1']                 NaN  \n",
       "189   ['1 + 1']                 NaN  "
      ]
     },
     "execution_count": 438,
     "metadata": {},
     "output_type": "execute_result"
    }
   ],
   "source": [
    "df[df.total_floor_number.isnull()]\n",
    "\n",
    "#As apperance, generally floor_number is high when total_floor_number is NaN"
   ]
  },
  {
   "cell_type": "code",
   "execution_count": 439,
   "id": "54bb54c7",
   "metadata": {
    "ExecuteTime": {
     "end_time": "2023-11-19T15:12:23.866647Z",
     "start_time": "2023-11-19T15:12:23.849996Z"
    }
   },
   "outputs": [],
   "source": [
    "cond = ((df.floor_number == \"Bahçe Katı\") | (df.floor_number == \"Yüksek Giriş\") | (df.floor_number == \"Zemin\") | (df.floor_number == \"Kot 1\") | (df.floor_number == \"Villa Katı\") | (df.floor_number == \"Yarı Bodrum\"))\n",
    "\n",
    "df.loc[cond, \"floor_number\"] = 1"
   ]
  },
  {
   "cell_type": "code",
   "execution_count": 440,
   "id": "15b8abd9",
   "metadata": {
    "ExecuteTime": {
     "end_time": "2023-11-19T15:12:23.879075Z",
     "start_time": "2023-11-19T15:12:23.869895Z"
    }
   },
   "outputs": [],
   "source": [
    "cond = (df.floor_number == \"Kot 3\")\n",
    "\n",
    "df.loc[cond, \"floor_number\"] = 3"
   ]
  },
  {
   "cell_type": "code",
   "execution_count": 441,
   "id": "c21eb8ac",
   "metadata": {
    "ExecuteTime": {
     "end_time": "2023-11-19T15:12:23.895016Z",
     "start_time": "2023-11-19T15:12:23.882454Z"
    },
    "scrolled": true
   },
   "outputs": [
    {
     "data": {
      "text/plain": [
       "2             41\n",
       "Ara Kat       30\n",
       "1             26\n",
       "3             23\n",
       "1             18\n",
       "4             12\n",
       "En Üst Kat    12\n",
       "5              8\n",
       "6              4\n",
       "9              4\n",
       "8              2\n",
       "13             2\n",
       "7              2\n",
       "11             2\n",
       "10             2\n",
       "12             1\n",
       "16             1\n",
       "Çatı Katı      1\n",
       "3              1\n",
       "Name: floor_number, dtype: int64"
      ]
     },
     "execution_count": 441,
     "metadata": {},
     "output_type": "execute_result"
    }
   ],
   "source": [
    "df[\"floor_number\"].value_counts()\n",
    "\n",
    "# For middle floor (Ara kat), I need int(total_floor_number/2)\n",
    "# For top floor (En üst kat) and attic (Çatı katı), I need only total_floor_number"
   ]
  },
  {
   "cell_type": "code",
   "execution_count": 497,
   "id": "3c170efb",
   "metadata": {
    "ExecuteTime": {
     "end_time": "2023-11-19T16:15:10.093501Z",
     "start_time": "2023-11-19T16:15:10.066337Z"
    }
   },
   "outputs": [
    {
     "data": {
      "text/html": [
       "<div>\n",
       "<style scoped>\n",
       "    .dataframe tbody tr th:only-of-type {\n",
       "        vertical-align: middle;\n",
       "    }\n",
       "\n",
       "    .dataframe tbody tr th {\n",
       "        vertical-align: top;\n",
       "    }\n",
       "\n",
       "    .dataframe thead th {\n",
       "        text-align: right;\n",
       "    }\n",
       "</style>\n",
       "<table border=\"1\" class=\"dataframe\">\n",
       "  <thead>\n",
       "    <tr style=\"text-align: right;\">\n",
       "      <th></th>\n",
       "      <th>name</th>\n",
       "      <th>price</th>\n",
       "      <th>area_m2</th>\n",
       "      <th>date</th>\n",
       "      <th>floor_number</th>\n",
       "      <th>age</th>\n",
       "      <th>bath_number</th>\n",
       "      <th>district</th>\n",
       "      <th>room_number</th>\n",
       "      <th>total_floor_number</th>\n",
       "      <th>age_new</th>\n",
       "      <th>district_new</th>\n",
       "      <th>room_number_new</th>\n",
       "      <th>area_new</th>\n",
       "    </tr>\n",
       "  </thead>\n",
       "  <tbody>\n",
       "    <tr>\n",
       "      <th>106</th>\n",
       "      <td>3+1 16.kat full 170 M2  kiralık</td>\n",
       "      <td>9.0</td>\n",
       "      <td>170.0</td>\n",
       "      <td>12-11-2023</td>\n",
       "      <td>16.0</td>\n",
       "      <td>0.0</td>\n",
       "      <td>2</td>\n",
       "      <td>Hürriyet</td>\n",
       "      <td>3 + 1</td>\n",
       "      <td>4.0</td>\n",
       "      <td>0.0</td>\n",
       "      <td>2.0</td>\n",
       "      <td>3.0</td>\n",
       "      <td>6.0</td>\n",
       "    </tr>\n",
       "  </tbody>\n",
       "</table>\n",
       "</div>"
      ],
      "text/plain": [
       "                                name  price  area_m2        date  \\\n",
       "106  3+1 16.kat full 170 M2  kiralık    9.0    170.0  12-11-2023   \n",
       "\n",
       "     floor_number  age  bath_number  district room_number  total_floor_number  \\\n",
       "106          16.0  0.0            2  Hürriyet       3 + 1                 4.0   \n",
       "\n",
       "     age_new  district_new  room_number_new  area_new  \n",
       "106      0.0           2.0              3.0       6.0  "
      ]
     },
     "execution_count": 497,
     "metadata": {},
     "output_type": "execute_result"
    }
   ],
   "source": [
    "df[df[\"floor_number\"] == 16]"
   ]
  },
  {
   "cell_type": "code",
   "execution_count": 442,
   "id": "24fb0988",
   "metadata": {
    "ExecuteTime": {
     "end_time": "2023-11-19T15:12:23.913044Z",
     "start_time": "2023-11-19T15:12:23.898023Z"
    }
   },
   "outputs": [],
   "source": [
    "cond = df[\"floor_number\"] == \"Ara Kat\"\n",
    "\n",
    "df.loc[cond, \"floor_number\"] = (df[\"total_floor_number\"]/2).round()"
   ]
  },
  {
   "cell_type": "code",
   "execution_count": 443,
   "id": "9c1c10e6",
   "metadata": {
    "ExecuteTime": {
     "end_time": "2023-11-19T15:12:23.931300Z",
     "start_time": "2023-11-19T15:12:23.916752Z"
    }
   },
   "outputs": [],
   "source": [
    "cond = ((df[\"floor_number\"] == \"En Üst Kat\") | (df[\"floor_number\"] == \"Çatı Katı\"))\n",
    "\n",
    "df.loc[cond, \"floor_number\"] = df[\"total_floor_number\"]"
   ]
  },
  {
   "cell_type": "code",
   "execution_count": 444,
   "id": "dee470e9",
   "metadata": {
    "ExecuteTime": {
     "end_time": "2023-11-19T15:12:23.948731Z",
     "start_time": "2023-11-19T15:12:23.934526Z"
    }
   },
   "outputs": [],
   "source": [
    "df[\"floor_number\"] = df[\"floor_number\"].fillna(df[\"floor_number\"].median())\n",
    "\n",
    "df[\"floor_number\"] = df[\"floor_number\"].astype(\"float\")"
   ]
  },
  {
   "cell_type": "code",
   "execution_count": 445,
   "id": "e6ee339b",
   "metadata": {
    "ExecuteTime": {
     "end_time": "2023-11-19T15:12:23.971000Z",
     "start_time": "2023-11-19T15:12:23.953039Z"
    },
    "scrolled": true
   },
   "outputs": [
    {
     "data": {
      "text/plain": [
       "2.0     66\n",
       "1.0     44\n",
       "3.0     27\n",
       "5.0     18\n",
       "4.0     16\n",
       "6.0      5\n",
       "9.0      4\n",
       "7.0      2\n",
       "13.0     2\n",
       "8.0      2\n",
       "11.0     2\n",
       "10.0     2\n",
       "12.0     1\n",
       "16.0     1\n",
       "Name: floor_number, dtype: int64"
      ]
     },
     "execution_count": 445,
     "metadata": {},
     "output_type": "execute_result"
    }
   ],
   "source": [
    "df[\"floor_number\"].value_counts()"
   ]
  },
  {
   "cell_type": "code",
   "execution_count": 446,
   "id": "d0d8de00",
   "metadata": {
    "ExecuteTime": {
     "end_time": "2023-11-19T15:12:23.981134Z",
     "start_time": "2023-11-19T15:12:23.973502Z"
    }
   },
   "outputs": [],
   "source": [
    "df.total_floor_number = df.total_floor_number.fillna(df.total_floor_number.median())"
   ]
  },
  {
   "cell_type": "markdown",
   "id": "108a3aa4",
   "metadata": {},
   "source": [
    "## age"
   ]
  },
  {
   "cell_type": "code",
   "execution_count": 447,
   "id": "c8ebc6f4",
   "metadata": {
    "ExecuteTime": {
     "end_time": "2023-11-19T15:12:24.007679Z",
     "start_time": "2023-11-19T15:12:23.985124Z"
    }
   },
   "outputs": [
    {
     "data": {
      "text/plain": [
       "Sıfır Bina    51\n",
       "25            19\n",
       "20            16\n",
       "5             13\n",
       "4             10\n",
       "15            10\n",
       "30            10\n",
       "3             10\n",
       "18             6\n",
       "1              6\n",
       "10             5\n",
       "7              5\n",
       "6              3\n",
       "35             3\n",
       "8              3\n",
       "11             3\n",
       "17             2\n",
       "13             2\n",
       "12             2\n",
       "26             2\n",
       "2              2\n",
       "22             1\n",
       "16             1\n",
       "14             1\n",
       "40             1\n",
       "9              1\n",
       "27             1\n",
       "21             1\n",
       "23             1\n",
       "28             1\n",
       "Name: age, dtype: int64"
      ]
     },
     "execution_count": 447,
     "metadata": {},
     "output_type": "execute_result"
    }
   ],
   "source": [
    "df[\"age\"].value_counts()"
   ]
  },
  {
   "cell_type": "code",
   "execution_count": 448,
   "id": "c6b98bfd",
   "metadata": {
    "ExecuteTime": {
     "end_time": "2023-11-19T15:12:24.031081Z",
     "start_time": "2023-11-19T15:12:24.012226Z"
    }
   },
   "outputs": [],
   "source": [
    "cond = (df[\"age\"] == \"Sıfır Bina\")\n",
    "\n",
    "df.loc[cond, \"age\"] = \"0\""
   ]
  },
  {
   "cell_type": "code",
   "execution_count": 449,
   "id": "438511ab",
   "metadata": {
    "ExecuteTime": {
     "end_time": "2023-11-19T15:12:24.049827Z",
     "start_time": "2023-11-19T15:12:24.039985Z"
    }
   },
   "outputs": [],
   "source": [
    "df[\"age\"] = df[\"age\"].astype(float)"
   ]
  },
  {
   "cell_type": "code",
   "execution_count": 450,
   "id": "64abcdbe",
   "metadata": {
    "ExecuteTime": {
     "end_time": "2023-11-19T15:12:24.066715Z",
     "start_time": "2023-11-19T15:12:24.055038Z"
    }
   },
   "outputs": [],
   "source": [
    "cond = (df[\"age\"] <= 5)\n",
    "\n",
    "df.loc[cond, \"age_new\"] = 0"
   ]
  },
  {
   "cell_type": "code",
   "execution_count": 451,
   "id": "129591fb",
   "metadata": {
    "ExecuteTime": {
     "end_time": "2023-11-19T15:12:24.083249Z",
     "start_time": "2023-11-19T15:12:24.072311Z"
    }
   },
   "outputs": [],
   "source": [
    "cond = ((df[\"age\"] > 5) & (df[\"age\"] <= 10))\n",
    "\n",
    "df.loc[cond, \"age_new\"] = 1"
   ]
  },
  {
   "cell_type": "code",
   "execution_count": 452,
   "id": "12b59538",
   "metadata": {
    "ExecuteTime": {
     "end_time": "2023-11-19T15:12:24.113373Z",
     "start_time": "2023-11-19T15:12:24.088940Z"
    }
   },
   "outputs": [],
   "source": [
    "cond = ((df[\"age\"] > 10) & (df[\"age\"] <= 15))\n",
    "\n",
    "df.loc[cond, \"age_new\"] = 2"
   ]
  },
  {
   "cell_type": "code",
   "execution_count": 453,
   "id": "52dd92f6",
   "metadata": {
    "ExecuteTime": {
     "end_time": "2023-11-19T15:12:24.136966Z",
     "start_time": "2023-11-19T15:12:24.119645Z"
    }
   },
   "outputs": [],
   "source": [
    "cond = ((df[\"age\"] > 15) & (df[\"age\"] <= 20))\n",
    "\n",
    "df.loc[cond, \"age_new\"] = 3"
   ]
  },
  {
   "cell_type": "code",
   "execution_count": 454,
   "id": "5d44bee5",
   "metadata": {
    "ExecuteTime": {
     "end_time": "2023-11-19T15:12:24.151057Z",
     "start_time": "2023-11-19T15:12:24.140300Z"
    }
   },
   "outputs": [],
   "source": [
    "cond = ((df[\"age\"] > 20) & (df[\"age\"] <= 25))\n",
    "\n",
    "df.loc[cond, \"age_new\"] = 4"
   ]
  },
  {
   "cell_type": "code",
   "execution_count": 455,
   "id": "13534cc3",
   "metadata": {
    "ExecuteTime": {
     "end_time": "2023-11-19T15:12:24.168413Z",
     "start_time": "2023-11-19T15:12:24.154743Z"
    }
   },
   "outputs": [],
   "source": [
    "cond = (df[\"age\"] > 25)\n",
    "\n",
    "df.loc[cond, \"age_new\"] = 5"
   ]
  },
  {
   "cell_type": "code",
   "execution_count": 456,
   "id": "97c06734",
   "metadata": {
    "ExecuteTime": {
     "end_time": "2023-11-19T15:12:24.186834Z",
     "start_time": "2023-11-19T15:12:24.172307Z"
    }
   },
   "outputs": [
    {
     "data": {
      "text/plain": [
       "0.0    92\n",
       "3.0    25\n",
       "4.0    22\n",
       "2.0    18\n",
       "5.0    18\n",
       "1.0    17\n",
       "Name: age_new, dtype: int64"
      ]
     },
     "execution_count": 456,
     "metadata": {},
     "output_type": "execute_result"
    }
   ],
   "source": [
    "df.age_new.value_counts()"
   ]
  },
  {
   "cell_type": "markdown",
   "id": "4118b879",
   "metadata": {},
   "source": [
    "## price"
   ]
  },
  {
   "cell_type": "code",
   "execution_count": 457,
   "id": "8368a495",
   "metadata": {
    "ExecuteTime": {
     "end_time": "2023-11-19T15:12:24.212385Z",
     "start_time": "2023-11-19T15:12:24.190522Z"
    }
   },
   "outputs": [
    {
     "data": {
      "text/html": [
       "<div>\n",
       "<style scoped>\n",
       "    .dataframe tbody tr th:only-of-type {\n",
       "        vertical-align: middle;\n",
       "    }\n",
       "\n",
       "    .dataframe tbody tr th {\n",
       "        vertical-align: top;\n",
       "    }\n",
       "\n",
       "    .dataframe thead th {\n",
       "        text-align: right;\n",
       "    }\n",
       "</style>\n",
       "<table border=\"1\" class=\"dataframe\">\n",
       "  <thead>\n",
       "    <tr style=\"text-align: right;\">\n",
       "      <th></th>\n",
       "      <th>name</th>\n",
       "      <th>price</th>\n",
       "      <th>area_m2</th>\n",
       "      <th>date</th>\n",
       "      <th>floor_number</th>\n",
       "      <th>age</th>\n",
       "      <th>bath_number</th>\n",
       "      <th>district</th>\n",
       "      <th>room_number</th>\n",
       "      <th>total_floor_number</th>\n",
       "      <th>age_new</th>\n",
       "    </tr>\n",
       "  </thead>\n",
       "  <tbody>\n",
       "    <tr>\n",
       "      <th>0</th>\n",
       "      <td>KİRALIK 3+1 MANİSA AKGEDİK 2. KAT ARAKAT 3+1 1...</td>\n",
       "      <td>13.000</td>\n",
       "      <td>130.0</td>\n",
       "      <td>13-11-2023</td>\n",
       "      <td>2.0</td>\n",
       "      <td>4.0</td>\n",
       "      <td>1</td>\n",
       "      <td>['Akgedik']</td>\n",
       "      <td>['3 + 1']</td>\n",
       "      <td>4.0</td>\n",
       "      <td>0.0</td>\n",
       "    </tr>\n",
       "    <tr>\n",
       "      <th>1</th>\n",
       "      <td>KİRALIK 3+1 140 m22. Kat Full özellikli İBRAHİ...</td>\n",
       "      <td>14.000</td>\n",
       "      <td>145.0</td>\n",
       "      <td>13-11-2023</td>\n",
       "      <td>2.0</td>\n",
       "      <td>17.0</td>\n",
       "      <td>1</td>\n",
       "      <td>['İbrahimçelebi']</td>\n",
       "      <td>['3 + 1']</td>\n",
       "      <td>5.0</td>\n",
       "      <td>3.0</td>\n",
       "    </tr>\n",
       "    <tr>\n",
       "      <th>2</th>\n",
       "      <td>MANİSA MERKEZDE EŞYALI 1+1 KİRALIK DAİRE</td>\n",
       "      <td>9.750</td>\n",
       "      <td>75.0</td>\n",
       "      <td>13-11-2023</td>\n",
       "      <td>1.0</td>\n",
       "      <td>30.0</td>\n",
       "      <td>1</td>\n",
       "      <td>['Mimar Sinan']</td>\n",
       "      <td>['1 + 1']</td>\n",
       "      <td>5.0</td>\n",
       "      <td>5.0</td>\n",
       "    </tr>\n",
       "    <tr>\n",
       "      <th>3</th>\n",
       "      <td>Kiralık Eşyalı Daire Manisa Karaali villaların...</td>\n",
       "      <td>15.500</td>\n",
       "      <td>85.0</td>\n",
       "      <td>13-11-2023</td>\n",
       "      <td>2.0</td>\n",
       "      <td>3.0</td>\n",
       "      <td>1</td>\n",
       "      <td>['Karaali']</td>\n",
       "      <td>['1 + 1']</td>\n",
       "      <td>3.0</td>\n",
       "      <td>0.0</td>\n",
       "    </tr>\n",
       "    <tr>\n",
       "      <th>4</th>\n",
       "      <td>Kiralık Daire Manisa 2.Anafartalar Mah</td>\n",
       "      <td>12.500</td>\n",
       "      <td>90.0</td>\n",
       "      <td>13-11-2023</td>\n",
       "      <td>3.0</td>\n",
       "      <td>28.0</td>\n",
       "      <td>1</td>\n",
       "      <td>['2. Anafartalar']</td>\n",
       "      <td>['2 + 1']</td>\n",
       "      <td>6.0</td>\n",
       "      <td>5.0</td>\n",
       "    </tr>\n",
       "  </tbody>\n",
       "</table>\n",
       "</div>"
      ],
      "text/plain": [
       "                                                name   price  area_m2  \\\n",
       "0  KİRALIK 3+1 MANİSA AKGEDİK 2. KAT ARAKAT 3+1 1...  13.000    130.0   \n",
       "1  KİRALIK 3+1 140 m22. Kat Full özellikli İBRAHİ...  14.000    145.0   \n",
       "2           MANİSA MERKEZDE EŞYALI 1+1 KİRALIK DAİRE   9.750     75.0   \n",
       "3  Kiralık Eşyalı Daire Manisa Karaali villaların...  15.500     85.0   \n",
       "4             Kiralık Daire Manisa 2.Anafartalar Mah  12.500     90.0   \n",
       "\n",
       "         date  floor_number   age  bath_number            district  \\\n",
       "0  13-11-2023           2.0   4.0            1         ['Akgedik']   \n",
       "1  13-11-2023           2.0  17.0            1   ['İbrahimçelebi']   \n",
       "2  13-11-2023           1.0  30.0            1     ['Mimar Sinan']   \n",
       "3  13-11-2023           2.0   3.0            1         ['Karaali']   \n",
       "4  13-11-2023           3.0  28.0            1  ['2. Anafartalar']   \n",
       "\n",
       "  room_number  total_floor_number  age_new  \n",
       "0   ['3 + 1']                 4.0      0.0  \n",
       "1   ['3 + 1']                 5.0      3.0  \n",
       "2   ['1 + 1']                 5.0      5.0  \n",
       "3   ['1 + 1']                 3.0      0.0  \n",
       "4   ['2 + 1']                 6.0      5.0  "
      ]
     },
     "execution_count": 457,
     "metadata": {},
     "output_type": "execute_result"
    }
   ],
   "source": [
    "df.head()"
   ]
  },
  {
   "cell_type": "code",
   "execution_count": 459,
   "id": "c6ba2add",
   "metadata": {
    "ExecuteTime": {
     "end_time": "2023-11-19T15:12:47.339207Z",
     "start_time": "2023-11-19T15:12:47.326068Z"
    }
   },
   "outputs": [
    {
     "data": {
      "text/plain": [
       "12.000       32\n",
       "10.000       17\n",
       "15.000       14\n",
       "12.500       13\n",
       "11.000       12\n",
       "13.000       11\n",
       "14.000       10\n",
       "8.000         7\n",
       "10.500        6\n",
       "7.500         5\n",
       "20.000        5\n",
       "9.500         5\n",
       "9.000         5\n",
       "7.000         5\n",
       "17.000        5\n",
       "25.000        4\n",
       "13.500        4\n",
       "11.500        3\n",
       "6.000         3\n",
       "18.000        3\n",
       "8.500         2\n",
       "16.000        2\n",
       "6.500         2\n",
       "15.500        2\n",
       "5.500         1\n",
       "12.750        1\n",
       "15.750        1\n",
       "14.500        1\n",
       "12.250        1\n",
       "22.000        1\n",
       "9.750         1\n",
       "4.000         1\n",
       "18.500        1\n",
       "5.000         1\n",
       "23.000        1\n",
       "35.000        1\n",
       "14.750        1\n",
       "1.650.000     1\n",
       "8.250         1\n",
       "Name: price, dtype: int64"
      ]
     },
     "execution_count": 459,
     "metadata": {},
     "output_type": "execute_result"
    }
   ],
   "source": [
    "df.price.value_counts()"
   ]
  },
  {
   "cell_type": "code",
   "execution_count": 460,
   "id": "fd58c58d",
   "metadata": {
    "ExecuteTime": {
     "end_time": "2023-11-19T15:12:47.370552Z",
     "start_time": "2023-11-19T15:12:47.343494Z"
    }
   },
   "outputs": [
    {
     "data": {
      "text/html": [
       "<div>\n",
       "<style scoped>\n",
       "    .dataframe tbody tr th:only-of-type {\n",
       "        vertical-align: middle;\n",
       "    }\n",
       "\n",
       "    .dataframe tbody tr th {\n",
       "        vertical-align: top;\n",
       "    }\n",
       "\n",
       "    .dataframe thead th {\n",
       "        text-align: right;\n",
       "    }\n",
       "</style>\n",
       "<table border=\"1\" class=\"dataframe\">\n",
       "  <thead>\n",
       "    <tr style=\"text-align: right;\">\n",
       "      <th></th>\n",
       "      <th>name</th>\n",
       "      <th>price</th>\n",
       "      <th>area_m2</th>\n",
       "      <th>date</th>\n",
       "      <th>floor_number</th>\n",
       "      <th>age</th>\n",
       "      <th>bath_number</th>\n",
       "      <th>district</th>\n",
       "      <th>room_number</th>\n",
       "      <th>total_floor_number</th>\n",
       "      <th>age_new</th>\n",
       "    </tr>\n",
       "  </thead>\n",
       "  <tbody>\n",
       "    <tr>\n",
       "      <th>184</th>\n",
       "      <td>satılık daire resatbeyde</td>\n",
       "      <td>1.650.000</td>\n",
       "      <td>100.0</td>\n",
       "      <td>16-09-2023</td>\n",
       "      <td>4.0</td>\n",
       "      <td>3.0</td>\n",
       "      <td>1</td>\n",
       "      <td>['Reşat Bey']</td>\n",
       "      <td>['2 + 1']</td>\n",
       "      <td>4.0</td>\n",
       "      <td>0.0</td>\n",
       "    </tr>\n",
       "  </tbody>\n",
       "</table>\n",
       "</div>"
      ],
      "text/plain": [
       "                         name      price  area_m2        date  floor_number  \\\n",
       "184  satılık daire resatbeyde  1.650.000    100.0  16-09-2023           4.0   \n",
       "\n",
       "     age  bath_number       district room_number  total_floor_number  age_new  \n",
       "184  3.0            1  ['Reşat Bey']   ['2 + 1']                 4.0      0.0  "
      ]
     },
     "execution_count": 460,
     "metadata": {},
     "output_type": "execute_result"
    }
   ],
   "source": [
    "df[df.price == \"1.650.000\"]"
   ]
  },
  {
   "cell_type": "code",
   "execution_count": 461,
   "id": "9ec9b7fa",
   "metadata": {
    "ExecuteTime": {
     "end_time": "2023-11-19T15:12:47.387264Z",
     "start_time": "2023-11-19T15:12:47.374111Z"
    }
   },
   "outputs": [],
   "source": [
    "df.drop([184], inplace=True)"
   ]
  },
  {
   "cell_type": "code",
   "execution_count": 462,
   "id": "bd41ab3f",
   "metadata": {
    "ExecuteTime": {
     "end_time": "2023-11-19T15:12:47.404939Z",
     "start_time": "2023-11-19T15:12:47.394365Z"
    }
   },
   "outputs": [],
   "source": [
    "df.price = df.price.astype(float)"
   ]
  },
  {
   "cell_type": "code",
   "execution_count": 463,
   "id": "6caeae4b",
   "metadata": {
    "ExecuteTime": {
     "end_time": "2023-11-19T15:12:47.439651Z",
     "start_time": "2023-11-19T15:12:47.408272Z"
    }
   },
   "outputs": [
    {
     "data": {
      "text/html": [
       "<div>\n",
       "<style scoped>\n",
       "    .dataframe tbody tr th:only-of-type {\n",
       "        vertical-align: middle;\n",
       "    }\n",
       "\n",
       "    .dataframe tbody tr th {\n",
       "        vertical-align: top;\n",
       "    }\n",
       "\n",
       "    .dataframe thead th {\n",
       "        text-align: right;\n",
       "    }\n",
       "</style>\n",
       "<table border=\"1\" class=\"dataframe\">\n",
       "  <thead>\n",
       "    <tr style=\"text-align: right;\">\n",
       "      <th></th>\n",
       "      <th>name</th>\n",
       "      <th>price</th>\n",
       "      <th>area_m2</th>\n",
       "      <th>date</th>\n",
       "      <th>floor_number</th>\n",
       "      <th>age</th>\n",
       "      <th>bath_number</th>\n",
       "      <th>district</th>\n",
       "      <th>room_number</th>\n",
       "      <th>total_floor_number</th>\n",
       "      <th>age_new</th>\n",
       "    </tr>\n",
       "  </thead>\n",
       "  <tbody>\n",
       "    <tr>\n",
       "      <th>0</th>\n",
       "      <td>KİRALIK 3+1 MANİSA AKGEDİK 2. KAT ARAKAT 3+1 1...</td>\n",
       "      <td>13.00</td>\n",
       "      <td>130.0</td>\n",
       "      <td>13-11-2023</td>\n",
       "      <td>2.0</td>\n",
       "      <td>4.0</td>\n",
       "      <td>1</td>\n",
       "      <td>['Akgedik']</td>\n",
       "      <td>['3 + 1']</td>\n",
       "      <td>4.0</td>\n",
       "      <td>0.0</td>\n",
       "    </tr>\n",
       "    <tr>\n",
       "      <th>1</th>\n",
       "      <td>KİRALIK 3+1 140 m22. Kat Full özellikli İBRAHİ...</td>\n",
       "      <td>14.00</td>\n",
       "      <td>145.0</td>\n",
       "      <td>13-11-2023</td>\n",
       "      <td>2.0</td>\n",
       "      <td>17.0</td>\n",
       "      <td>1</td>\n",
       "      <td>['İbrahimçelebi']</td>\n",
       "      <td>['3 + 1']</td>\n",
       "      <td>5.0</td>\n",
       "      <td>3.0</td>\n",
       "    </tr>\n",
       "    <tr>\n",
       "      <th>2</th>\n",
       "      <td>MANİSA MERKEZDE EŞYALI 1+1 KİRALIK DAİRE</td>\n",
       "      <td>9.75</td>\n",
       "      <td>75.0</td>\n",
       "      <td>13-11-2023</td>\n",
       "      <td>1.0</td>\n",
       "      <td>30.0</td>\n",
       "      <td>1</td>\n",
       "      <td>['Mimar Sinan']</td>\n",
       "      <td>['1 + 1']</td>\n",
       "      <td>5.0</td>\n",
       "      <td>5.0</td>\n",
       "    </tr>\n",
       "    <tr>\n",
       "      <th>3</th>\n",
       "      <td>Kiralık Eşyalı Daire Manisa Karaali villaların...</td>\n",
       "      <td>15.50</td>\n",
       "      <td>85.0</td>\n",
       "      <td>13-11-2023</td>\n",
       "      <td>2.0</td>\n",
       "      <td>3.0</td>\n",
       "      <td>1</td>\n",
       "      <td>['Karaali']</td>\n",
       "      <td>['1 + 1']</td>\n",
       "      <td>3.0</td>\n",
       "      <td>0.0</td>\n",
       "    </tr>\n",
       "    <tr>\n",
       "      <th>4</th>\n",
       "      <td>Kiralık Daire Manisa 2.Anafartalar Mah</td>\n",
       "      <td>12.50</td>\n",
       "      <td>90.0</td>\n",
       "      <td>13-11-2023</td>\n",
       "      <td>3.0</td>\n",
       "      <td>28.0</td>\n",
       "      <td>1</td>\n",
       "      <td>['2. Anafartalar']</td>\n",
       "      <td>['2 + 1']</td>\n",
       "      <td>6.0</td>\n",
       "      <td>5.0</td>\n",
       "    </tr>\n",
       "  </tbody>\n",
       "</table>\n",
       "</div>"
      ],
      "text/plain": [
       "                                                name  price  area_m2  \\\n",
       "0  KİRALIK 3+1 MANİSA AKGEDİK 2. KAT ARAKAT 3+1 1...  13.00    130.0   \n",
       "1  KİRALIK 3+1 140 m22. Kat Full özellikli İBRAHİ...  14.00    145.0   \n",
       "2           MANİSA MERKEZDE EŞYALI 1+1 KİRALIK DAİRE   9.75     75.0   \n",
       "3  Kiralık Eşyalı Daire Manisa Karaali villaların...  15.50     85.0   \n",
       "4             Kiralık Daire Manisa 2.Anafartalar Mah  12.50     90.0   \n",
       "\n",
       "         date  floor_number   age  bath_number            district  \\\n",
       "0  13-11-2023           2.0   4.0            1         ['Akgedik']   \n",
       "1  13-11-2023           2.0  17.0            1   ['İbrahimçelebi']   \n",
       "2  13-11-2023           1.0  30.0            1     ['Mimar Sinan']   \n",
       "3  13-11-2023           2.0   3.0            1         ['Karaali']   \n",
       "4  13-11-2023           3.0  28.0            1  ['2. Anafartalar']   \n",
       "\n",
       "  room_number  total_floor_number  age_new  \n",
       "0   ['3 + 1']                 4.0      0.0  \n",
       "1   ['3 + 1']                 5.0      3.0  \n",
       "2   ['1 + 1']                 5.0      5.0  \n",
       "3   ['1 + 1']                 3.0      0.0  \n",
       "4   ['2 + 1']                 6.0      5.0  "
      ]
     },
     "execution_count": 463,
     "metadata": {},
     "output_type": "execute_result"
    }
   ],
   "source": [
    "df.head()"
   ]
  },
  {
   "cell_type": "markdown",
   "id": "9fc8d179",
   "metadata": {},
   "source": [
    "## district"
   ]
  },
  {
   "cell_type": "code",
   "execution_count": 464,
   "id": "5fafb4e8",
   "metadata": {
    "ExecuteTime": {
     "end_time": "2023-11-19T15:12:47.456309Z",
     "start_time": "2023-11-19T15:12:47.440679Z"
    }
   },
   "outputs": [],
   "source": [
    "for i in df.district:\n",
    "    i = str(i)"
   ]
  },
  {
   "cell_type": "code",
   "execution_count": 465,
   "id": "1e15e4e4",
   "metadata": {
    "ExecuteTime": {
     "end_time": "2023-11-19T15:12:47.477326Z",
     "start_time": "2023-11-19T15:12:47.460625Z"
    }
   },
   "outputs": [],
   "source": [
    "df[\"district\"] = df[\"district\"].str.strip(\"[\").str.strip(\"]\")\n",
    "df[\"district\"] = df[\"district\"].str.strip(\"'\").str.strip(\"'\")"
   ]
  },
  {
   "cell_type": "code",
   "execution_count": 466,
   "id": "895d7821",
   "metadata": {
    "ExecuteTime": {
     "end_time": "2023-11-19T15:12:47.496004Z",
     "start_time": "2023-11-19T15:12:47.477326Z"
    }
   },
   "outputs": [
    {
     "data": {
      "text/plain": [
       "Uncubozköy        21\n",
       "75. Yıl           20\n",
       "Muradiye          15\n",
       "Atatürk            8\n",
       "Güzelyurt          7\n",
       "Merkez Efendi      7\n",
       "Kurtuluş           6\n",
       "Hürriyet           6\n",
       "Şehitler           5\n",
       "Karaali            4\n",
       "Selvilitepe        4\n",
       "Paşa               4\n",
       "Akgedik            4\n",
       "Yörük              4\n",
       "Cumhuriyet         4\n",
       "1. Anafartalar     3\n",
       "Ragıp Bey          3\n",
       "2. Anafartalar     3\n",
       "İstasyon           3\n",
       "Yeni Mahalle       3\n",
       "Mimar Sinan        3\n",
       "Tevfikiye          3\n",
       "Sakarya            3\n",
       "Peker              3\n",
       "Keçili Köy         3\n",
       "Eski Cami          2\n",
       "Kethüda            2\n",
       "Göktaşlı           2\n",
       "Yarhasanlar        2\n",
       "Ege                2\n",
       "Hafsa Sultan       2\n",
       "Fatih              2\n",
       "Akmescit           2\n",
       "Mesir              2\n",
       "Yılmazlar          2\n",
       "Laleli             2\n",
       "Ergenekon          2\n",
       "Akıncılar          2\n",
       "İbrahimçelebi      2\n",
       "Namık Kemal        1\n",
       "Yeni               1\n",
       "Alaybey            1\n",
       "Sağlık             1\n",
       "Kırveli            1\n",
       "Bağyolu            1\n",
       "İstiklal           1\n",
       "50. Yıl            1\n",
       "Dere               1\n",
       "Reşat Bey          1\n",
       "Seyitali           1\n",
       "Adakale            1\n",
       "Sancaklıbozköy     1\n",
       "Dinçer             1\n",
       "Name: district, dtype: int64"
      ]
     },
     "execution_count": 466,
     "metadata": {},
     "output_type": "execute_result"
    }
   ],
   "source": [
    "df.district.value_counts()"
   ]
  },
  {
   "cell_type": "code",
   "execution_count": 467,
   "id": "b0a770a1",
   "metadata": {
    "ExecuteTime": {
     "end_time": "2023-11-19T15:12:47.535912Z",
     "start_time": "2023-11-19T15:12:47.499648Z"
    }
   },
   "outputs": [
    {
     "data": {
      "text/html": [
       "<div>\n",
       "<style scoped>\n",
       "    .dataframe tbody tr th:only-of-type {\n",
       "        vertical-align: middle;\n",
       "    }\n",
       "\n",
       "    .dataframe tbody tr th {\n",
       "        vertical-align: top;\n",
       "    }\n",
       "\n",
       "    .dataframe thead th {\n",
       "        text-align: right;\n",
       "    }\n",
       "</style>\n",
       "<table border=\"1\" class=\"dataframe\">\n",
       "  <thead>\n",
       "    <tr style=\"text-align: right;\">\n",
       "      <th></th>\n",
       "      <th>price</th>\n",
       "    </tr>\n",
       "    <tr>\n",
       "      <th>district</th>\n",
       "      <th></th>\n",
       "    </tr>\n",
       "  </thead>\n",
       "  <tbody>\n",
       "    <tr>\n",
       "      <th>Bağyolu</th>\n",
       "      <td>18.000000</td>\n",
       "    </tr>\n",
       "    <tr>\n",
       "      <th>Güzelyurt</th>\n",
       "      <td>17.892857</td>\n",
       "    </tr>\n",
       "    <tr>\n",
       "      <th>Peker</th>\n",
       "      <td>17.000000</td>\n",
       "    </tr>\n",
       "    <tr>\n",
       "      <th>Cumhuriyet</th>\n",
       "      <td>16.750000</td>\n",
       "    </tr>\n",
       "    <tr>\n",
       "      <th>Yeni Mahalle</th>\n",
       "      <td>15.666667</td>\n",
       "    </tr>\n",
       "    <tr>\n",
       "      <th>1. Anafartalar</th>\n",
       "      <td>15.500000</td>\n",
       "    </tr>\n",
       "    <tr>\n",
       "      <th>Laleli</th>\n",
       "      <td>15.250000</td>\n",
       "    </tr>\n",
       "    <tr>\n",
       "      <th>Dere</th>\n",
       "      <td>15.000000</td>\n",
       "    </tr>\n",
       "    <tr>\n",
       "      <th>75. Yıl</th>\n",
       "      <td>14.950000</td>\n",
       "    </tr>\n",
       "    <tr>\n",
       "      <th>Tevfikiye</th>\n",
       "      <td>13.833333</td>\n",
       "    </tr>\n",
       "    <tr>\n",
       "      <th>Uncubozköy</th>\n",
       "      <td>13.440476</td>\n",
       "    </tr>\n",
       "    <tr>\n",
       "      <th>Muradiye</th>\n",
       "      <td>13.100000</td>\n",
       "    </tr>\n",
       "    <tr>\n",
       "      <th>Akmescit</th>\n",
       "      <td>13.000000</td>\n",
       "    </tr>\n",
       "    <tr>\n",
       "      <th>Sakarya</th>\n",
       "      <td>13.000000</td>\n",
       "    </tr>\n",
       "    <tr>\n",
       "      <th>Akıncılar</th>\n",
       "      <td>12.750000</td>\n",
       "    </tr>\n",
       "    <tr>\n",
       "      <th>Karaali</th>\n",
       "      <td>12.750000</td>\n",
       "    </tr>\n",
       "    <tr>\n",
       "      <th>Yörük</th>\n",
       "      <td>12.500000</td>\n",
       "    </tr>\n",
       "    <tr>\n",
       "      <th>2. Anafartalar</th>\n",
       "      <td>12.500000</td>\n",
       "    </tr>\n",
       "    <tr>\n",
       "      <th>Keçili Köy</th>\n",
       "      <td>12.333333</td>\n",
       "    </tr>\n",
       "    <tr>\n",
       "      <th>Ergenekon</th>\n",
       "      <td>12.250000</td>\n",
       "    </tr>\n",
       "    <tr>\n",
       "      <th>Mimar Sinan</th>\n",
       "      <td>12.250000</td>\n",
       "    </tr>\n",
       "    <tr>\n",
       "      <th>İbrahimçelebi</th>\n",
       "      <td>12.250000</td>\n",
       "    </tr>\n",
       "    <tr>\n",
       "      <th>Akgedik</th>\n",
       "      <td>12.125000</td>\n",
       "    </tr>\n",
       "    <tr>\n",
       "      <th>Kırveli</th>\n",
       "      <td>12.000000</td>\n",
       "    </tr>\n",
       "    <tr>\n",
       "      <th>Adakale</th>\n",
       "      <td>12.000000</td>\n",
       "    </tr>\n",
       "    <tr>\n",
       "      <th>Kurtuluş</th>\n",
       "      <td>11.833333</td>\n",
       "    </tr>\n",
       "    <tr>\n",
       "      <th>Atatürk</th>\n",
       "      <td>11.812500</td>\n",
       "    </tr>\n",
       "    <tr>\n",
       "      <th>Yarhasanlar</th>\n",
       "      <td>11.750000</td>\n",
       "    </tr>\n",
       "    <tr>\n",
       "      <th>Merkez Efendi</th>\n",
       "      <td>11.714286</td>\n",
       "    </tr>\n",
       "    <tr>\n",
       "      <th>Eski Cami</th>\n",
       "      <td>11.250000</td>\n",
       "    </tr>\n",
       "    <tr>\n",
       "      <th>Ege</th>\n",
       "      <td>11.000000</td>\n",
       "    </tr>\n",
       "    <tr>\n",
       "      <th>Alaybey</th>\n",
       "      <td>10.500000</td>\n",
       "    </tr>\n",
       "    <tr>\n",
       "      <th>Göktaşlı</th>\n",
       "      <td>10.000000</td>\n",
       "    </tr>\n",
       "    <tr>\n",
       "      <th>Yeni</th>\n",
       "      <td>10.000000</td>\n",
       "    </tr>\n",
       "    <tr>\n",
       "      <th>Paşa</th>\n",
       "      <td>9.750000</td>\n",
       "    </tr>\n",
       "    <tr>\n",
       "      <th>Hafsa Sultan</th>\n",
       "      <td>9.500000</td>\n",
       "    </tr>\n",
       "    <tr>\n",
       "      <th>Mesir</th>\n",
       "      <td>9.500000</td>\n",
       "    </tr>\n",
       "    <tr>\n",
       "      <th>Şehitler</th>\n",
       "      <td>9.400000</td>\n",
       "    </tr>\n",
       "    <tr>\n",
       "      <th>Yılmazlar</th>\n",
       "      <td>9.250000</td>\n",
       "    </tr>\n",
       "    <tr>\n",
       "      <th>Selvilitepe</th>\n",
       "      <td>9.000000</td>\n",
       "    </tr>\n",
       "    <tr>\n",
       "      <th>Hürriyet</th>\n",
       "      <td>9.000000</td>\n",
       "    </tr>\n",
       "    <tr>\n",
       "      <th>50. Yıl</th>\n",
       "      <td>9.000000</td>\n",
       "    </tr>\n",
       "    <tr>\n",
       "      <th>Fatih</th>\n",
       "      <td>8.500000</td>\n",
       "    </tr>\n",
       "    <tr>\n",
       "      <th>İstasyon</th>\n",
       "      <td>8.333333</td>\n",
       "    </tr>\n",
       "    <tr>\n",
       "      <th>Sağlık</th>\n",
       "      <td>8.000000</td>\n",
       "    </tr>\n",
       "    <tr>\n",
       "      <th>Dinçer</th>\n",
       "      <td>8.000000</td>\n",
       "    </tr>\n",
       "    <tr>\n",
       "      <th>Namık Kemal</th>\n",
       "      <td>8.000000</td>\n",
       "    </tr>\n",
       "    <tr>\n",
       "      <th>Reşat Bey</th>\n",
       "      <td>7.500000</td>\n",
       "    </tr>\n",
       "    <tr>\n",
       "      <th>Ragıp Bey</th>\n",
       "      <td>7.250000</td>\n",
       "    </tr>\n",
       "    <tr>\n",
       "      <th>Seyitali</th>\n",
       "      <td>7.000000</td>\n",
       "    </tr>\n",
       "    <tr>\n",
       "      <th>Kethüda</th>\n",
       "      <td>5.500000</td>\n",
       "    </tr>\n",
       "    <tr>\n",
       "      <th>Sancaklıbozköy</th>\n",
       "      <td>5.500000</td>\n",
       "    </tr>\n",
       "    <tr>\n",
       "      <th>İstiklal</th>\n",
       "      <td>5.000000</td>\n",
       "    </tr>\n",
       "  </tbody>\n",
       "</table>\n",
       "</div>"
      ],
      "text/plain": [
       "                    price\n",
       "district                 \n",
       "Bağyolu         18.000000\n",
       "Güzelyurt       17.892857\n",
       "Peker           17.000000\n",
       "Cumhuriyet      16.750000\n",
       "Yeni Mahalle    15.666667\n",
       "1. Anafartalar  15.500000\n",
       "Laleli          15.250000\n",
       "Dere            15.000000\n",
       "75. Yıl         14.950000\n",
       "Tevfikiye       13.833333\n",
       "Uncubozköy      13.440476\n",
       "Muradiye        13.100000\n",
       "Akmescit        13.000000\n",
       "Sakarya         13.000000\n",
       "Akıncılar       12.750000\n",
       "Karaali         12.750000\n",
       "Yörük           12.500000\n",
       "2. Anafartalar  12.500000\n",
       "Keçili Köy      12.333333\n",
       "Ergenekon       12.250000\n",
       "Mimar Sinan     12.250000\n",
       "İbrahimçelebi   12.250000\n",
       "Akgedik         12.125000\n",
       "Kırveli         12.000000\n",
       "Adakale         12.000000\n",
       "Kurtuluş        11.833333\n",
       "Atatürk         11.812500\n",
       "Yarhasanlar     11.750000\n",
       "Merkez Efendi   11.714286\n",
       "Eski Cami       11.250000\n",
       "Ege             11.000000\n",
       "Alaybey         10.500000\n",
       "Göktaşlı        10.000000\n",
       "Yeni            10.000000\n",
       "Paşa             9.750000\n",
       "Hafsa Sultan     9.500000\n",
       "Mesir            9.500000\n",
       "Şehitler         9.400000\n",
       "Yılmazlar        9.250000\n",
       "Selvilitepe      9.000000\n",
       "Hürriyet         9.000000\n",
       "50. Yıl          9.000000\n",
       "Fatih            8.500000\n",
       "İstasyon         8.333333\n",
       "Sağlık           8.000000\n",
       "Dinçer           8.000000\n",
       "Namık Kemal      8.000000\n",
       "Reşat Bey        7.500000\n",
       "Ragıp Bey        7.250000\n",
       "Seyitali         7.000000\n",
       "Kethüda          5.500000\n",
       "Sancaklıbozköy   5.500000\n",
       "İstiklal         5.000000"
      ]
     },
     "execution_count": 467,
     "metadata": {},
     "output_type": "execute_result"
    }
   ],
   "source": [
    "df.groupby([\"district\"])[[\"price\"]].mean().sort_values(\"price\", ascending = False)"
   ]
  },
  {
   "cell_type": "code",
   "execution_count": 468,
   "id": "d92a109e",
   "metadata": {
    "ExecuteTime": {
     "end_time": "2023-11-19T15:12:47.569728Z",
     "start_time": "2023-11-19T15:12:47.546702Z"
    }
   },
   "outputs": [],
   "source": [
    "cond = ((df[\"district\"] == \"Bağyolu\") | (df[\"district\"] == \"Güzelyurt\") | (df[\"district\"] == \"Peker\") | (df[\"district\"] == \"Cumhuriyet\") | (df[\"district\"] == \"Yeni Mahalle\") | (df[\"district\"] == \"1. Anafartalar\") | (df[\"district\"] == \"Laleli\") | (df[\"district\"] == \"Dere\"))\n",
    "\n",
    "df.loc[cond, \"district_new\"] = 0"
   ]
  },
  {
   "cell_type": "code",
   "execution_count": 469,
   "id": "e5096ad8",
   "metadata": {
    "ExecuteTime": {
     "end_time": "2023-11-19T15:12:47.597181Z",
     "start_time": "2023-11-19T15:12:47.574979Z"
    }
   },
   "outputs": [],
   "source": [
    "cond = ((df[\"district\"] == \"75. Yıl\") | (df[\"district\"] == \"Tevfikiye\") | (df[\"district\"] == \"Uncubozköy\") | (df[\"district\"] == \"Muradiye\") | (df[\"district\"] == \"Akmescit\") | (df[\"district\"] == \"Sakarya\") | (df[\"district\"] == \"Akıncılar\") | (df[\"district\"] == \"Karaali\") | (df[\"district\"] == \"Yörük\") | (df[\"district\"] == \"2. Anafartalar\") | (df[\"district\"] == \"Keçili Köy\") | (df[\"district\"] == \"Ergenekon\") | (df[\"district\"] == \"Mimar Sinan\") | (df[\"district\"] == \"İbrahimçelebi\") | (df[\"district\"] == \"Akgedik\") | (df[\"district\"] == \"Kırveli\") | (df[\"district\"] == \"Adakale\")  )\n",
    "\n",
    "df.loc[cond, \"district_new\"] = 1"
   ]
  },
  {
   "cell_type": "code",
   "execution_count": 470,
   "id": "0698b0ad",
   "metadata": {
    "ExecuteTime": {
     "end_time": "2023-11-19T15:12:47.622756Z",
     "start_time": "2023-11-19T15:12:47.601247Z"
    }
   },
   "outputs": [],
   "source": [
    "cond = ((df[\"district\"] == \"Kurtuluş\") | (df[\"district\"] == \"Atatürk\") | (df[\"district\"] == \"Yarhasanlar\") | (df[\"district\"] == \"Merkez Efendi\") | (df[\"district\"] == \"Eski Cami\") | (df[\"district\"] == \"Ege\") | (df[\"district\"] == \"Alaybey\") | (df[\"district\"] == \"Göktaşlı\") | (df[\"district\"] == \"Yeni\") | (df[\"district\"] == \"Paşa\") | (df[\"district\"] == \"Hafsa Sultan\") | (df[\"district\"] == \"Mesir\") | (df[\"district\"] == \"Şehitler\") | (df[\"district\"] == \"Yılmazlar\") | (df[\"district\"] == \"Selvilitepe\") | (df[\"district\"] == \"Hürriyet\") | (df[\"district\"] == \"50. Yıl\")  )\n",
    "\n",
    "df.loc[cond, \"district_new\"] = 2"
   ]
  },
  {
   "cell_type": "code",
   "execution_count": 471,
   "id": "fcd019e1",
   "metadata": {
    "ExecuteTime": {
     "end_time": "2023-11-19T15:12:47.648516Z",
     "start_time": "2023-11-19T15:12:47.627196Z"
    }
   },
   "outputs": [],
   "source": [
    "cond = ((df[\"district\"] == \"Fatih\") | (df[\"district\"] == \"İstasyon\") | (df[\"district\"] == \"Sağlık\") | (df[\"district\"] == \"Dinçer\") | (df[\"district\"] == \"Namık Kemal\") | (df[\"district\"] == \"Reşat Bey\") | (df[\"district\"] == \"Ragıp Bey\") | (df[\"district\"] == \"Seyitali\") | (df[\"district\"] == \"Kethüda\") | (df[\"district\"] == \"Sancaklıbozköy\") | (df[\"district\"] == \"İstiklal\")) \n",
    "\n",
    "df.loc[cond, \"district_new\"] = 3"
   ]
  },
  {
   "cell_type": "markdown",
   "id": "6b6988dc",
   "metadata": {},
   "source": [
    "## room number"
   ]
  },
  {
   "cell_type": "code",
   "execution_count": 472,
   "id": "7c0c261a",
   "metadata": {
    "ExecuteTime": {
     "end_time": "2023-11-19T15:12:47.663803Z",
     "start_time": "2023-11-19T15:12:47.652021Z"
    }
   },
   "outputs": [],
   "source": [
    "for i in df.room_number:\n",
    "    i = str(i)"
   ]
  },
  {
   "cell_type": "code",
   "execution_count": 473,
   "id": "42b427fd",
   "metadata": {
    "ExecuteTime": {
     "end_time": "2023-11-19T15:12:47.683242Z",
     "start_time": "2023-11-19T15:12:47.667934Z"
    }
   },
   "outputs": [],
   "source": [
    "df[\"room_number\"] = df[\"room_number\"].str.strip(\"[\").str.strip(\"]\")\n",
    "df[\"room_number\"] = df[\"room_number\"].str.strip(\"'\").str.strip(\"'\")"
   ]
  },
  {
   "cell_type": "code",
   "execution_count": 474,
   "id": "f5f94abb",
   "metadata": {
    "ExecuteTime": {
     "end_time": "2023-11-19T15:12:47.709124Z",
     "start_time": "2023-11-19T15:12:47.688964Z"
    },
    "scrolled": true
   },
   "outputs": [
    {
     "data": {
      "text/plain": [
       "3 + 1    90\n",
       "2 + 1    50\n",
       "1 + 1    46\n",
       "4 + 1     2\n",
       "1 + 0     1\n",
       "5 + 2     1\n",
       "4 + 2     1\n",
       "Name: room_number, dtype: int64"
      ]
     },
     "execution_count": 474,
     "metadata": {},
     "output_type": "execute_result"
    }
   ],
   "source": [
    "df[\"room_number\"].value_counts()"
   ]
  },
  {
   "cell_type": "code",
   "execution_count": 490,
   "id": "20e82238",
   "metadata": {
    "ExecuteTime": {
     "end_time": "2023-11-19T16:01:53.444334Z",
     "start_time": "2023-11-19T16:01:53.429463Z"
    }
   },
   "outputs": [],
   "source": [
    "cond = (df[\"room_number\"] == \"1 + 0\")\n",
    "\n",
    "df.loc[cond, \"room_number_new\"] = 0"
   ]
  },
  {
   "cell_type": "code",
   "execution_count": 491,
   "id": "af25c8da",
   "metadata": {
    "ExecuteTime": {
     "end_time": "2023-11-19T16:01:53.684323Z",
     "start_time": "2023-11-19T16:01:53.668441Z"
    }
   },
   "outputs": [],
   "source": [
    "cond = (df[\"room_number\"] == \"1 + 1\")\n",
    "\n",
    "df.loc[cond, \"room_number_new\"] = 1"
   ]
  },
  {
   "cell_type": "code",
   "execution_count": 492,
   "id": "7798fd53",
   "metadata": {
    "ExecuteTime": {
     "end_time": "2023-11-19T16:01:54.513361Z",
     "start_time": "2023-11-19T16:01:54.498609Z"
    }
   },
   "outputs": [],
   "source": [
    "cond = (df[\"room_number\"] == \"2 + 1\")\n",
    "\n",
    "df.loc[cond, \"room_number_new\"] = 2"
   ]
  },
  {
   "cell_type": "code",
   "execution_count": 493,
   "id": "4bf16b3d",
   "metadata": {
    "ExecuteTime": {
     "end_time": "2023-11-19T16:01:54.513361Z",
     "start_time": "2023-11-19T16:01:54.498609Z"
    }
   },
   "outputs": [],
   "source": [
    "cond = (df[\"room_number\"] == \"3 + 1\")\n",
    "\n",
    "df.loc[cond, \"room_number_new\"] = 3"
   ]
  },
  {
   "cell_type": "code",
   "execution_count": 494,
   "id": "c33647ac",
   "metadata": {
    "ExecuteTime": {
     "end_time": "2023-11-19T16:01:54.864552Z",
     "start_time": "2023-11-19T16:01:54.832190Z"
    }
   },
   "outputs": [],
   "source": [
    "cond = ((df[\"room_number\"] == \"4 + 1\") | (df[\"room_number\"] == \"5 + 2\") | (df[\"room_number\"] == \"4 + 2\"))\n",
    "\n",
    "df.loc[cond, \"room_number_new\"] = 4"
   ]
  },
  {
   "cell_type": "code",
   "execution_count": 495,
   "id": "1b521e01",
   "metadata": {
    "ExecuteTime": {
     "end_time": "2023-11-19T16:01:55.231059Z",
     "start_time": "2023-11-19T16:01:55.198785Z"
    }
   },
   "outputs": [
    {
     "data": {
      "text/plain": [
       "3.0    90\n",
       "2.0    50\n",
       "1.0    46\n",
       "4.0     4\n",
       "0.0     1\n",
       "Name: room_number_new, dtype: int64"
      ]
     },
     "execution_count": 495,
     "metadata": {},
     "output_type": "execute_result"
    }
   ],
   "source": [
    "df[\"room_number_new\"].value_counts()"
   ]
  },
  {
   "cell_type": "code",
   "execution_count": 480,
   "id": "fc01d557",
   "metadata": {
    "ExecuteTime": {
     "end_time": "2023-11-19T15:12:47.870600Z",
     "start_time": "2023-11-19T15:12:47.822680Z"
    }
   },
   "outputs": [
    {
     "data": {
      "text/html": [
       "<div>\n",
       "<style scoped>\n",
       "    .dataframe tbody tr th:only-of-type {\n",
       "        vertical-align: middle;\n",
       "    }\n",
       "\n",
       "    .dataframe tbody tr th {\n",
       "        vertical-align: top;\n",
       "    }\n",
       "\n",
       "    .dataframe thead th {\n",
       "        text-align: right;\n",
       "    }\n",
       "</style>\n",
       "<table border=\"1\" class=\"dataframe\">\n",
       "  <thead>\n",
       "    <tr style=\"text-align: right;\">\n",
       "      <th></th>\n",
       "      <th>name</th>\n",
       "      <th>price</th>\n",
       "      <th>area_m2</th>\n",
       "      <th>date</th>\n",
       "      <th>floor_number</th>\n",
       "      <th>age</th>\n",
       "      <th>bath_number</th>\n",
       "      <th>district</th>\n",
       "      <th>room_number</th>\n",
       "      <th>total_floor_number</th>\n",
       "      <th>age_new</th>\n",
       "      <th>district_new</th>\n",
       "      <th>room_number_new</th>\n",
       "    </tr>\n",
       "  </thead>\n",
       "  <tbody>\n",
       "    <tr>\n",
       "      <th>0</th>\n",
       "      <td>KİRALIK 3+1 MANİSA AKGEDİK 2. KAT ARAKAT 3+1 1...</td>\n",
       "      <td>13.00</td>\n",
       "      <td>130.0</td>\n",
       "      <td>13-11-2023</td>\n",
       "      <td>2.0</td>\n",
       "      <td>4.0</td>\n",
       "      <td>1</td>\n",
       "      <td>Akgedik</td>\n",
       "      <td>3 + 1</td>\n",
       "      <td>4.0</td>\n",
       "      <td>0.0</td>\n",
       "      <td>1.0</td>\n",
       "      <td>3.0</td>\n",
       "    </tr>\n",
       "    <tr>\n",
       "      <th>1</th>\n",
       "      <td>KİRALIK 3+1 140 m22. Kat Full özellikli İBRAHİ...</td>\n",
       "      <td>14.00</td>\n",
       "      <td>145.0</td>\n",
       "      <td>13-11-2023</td>\n",
       "      <td>2.0</td>\n",
       "      <td>17.0</td>\n",
       "      <td>1</td>\n",
       "      <td>İbrahimçelebi</td>\n",
       "      <td>3 + 1</td>\n",
       "      <td>5.0</td>\n",
       "      <td>3.0</td>\n",
       "      <td>1.0</td>\n",
       "      <td>3.0</td>\n",
       "    </tr>\n",
       "    <tr>\n",
       "      <th>2</th>\n",
       "      <td>MANİSA MERKEZDE EŞYALI 1+1 KİRALIK DAİRE</td>\n",
       "      <td>9.75</td>\n",
       "      <td>75.0</td>\n",
       "      <td>13-11-2023</td>\n",
       "      <td>1.0</td>\n",
       "      <td>30.0</td>\n",
       "      <td>1</td>\n",
       "      <td>Mimar Sinan</td>\n",
       "      <td>1 + 1</td>\n",
       "      <td>5.0</td>\n",
       "      <td>5.0</td>\n",
       "      <td>1.0</td>\n",
       "      <td>1.0</td>\n",
       "    </tr>\n",
       "    <tr>\n",
       "      <th>3</th>\n",
       "      <td>Kiralık Eşyalı Daire Manisa Karaali villaların...</td>\n",
       "      <td>15.50</td>\n",
       "      <td>85.0</td>\n",
       "      <td>13-11-2023</td>\n",
       "      <td>2.0</td>\n",
       "      <td>3.0</td>\n",
       "      <td>1</td>\n",
       "      <td>Karaali</td>\n",
       "      <td>1 + 1</td>\n",
       "      <td>3.0</td>\n",
       "      <td>0.0</td>\n",
       "      <td>1.0</td>\n",
       "      <td>1.0</td>\n",
       "    </tr>\n",
       "    <tr>\n",
       "      <th>4</th>\n",
       "      <td>Kiralık Daire Manisa 2.Anafartalar Mah</td>\n",
       "      <td>12.50</td>\n",
       "      <td>90.0</td>\n",
       "      <td>13-11-2023</td>\n",
       "      <td>3.0</td>\n",
       "      <td>28.0</td>\n",
       "      <td>1</td>\n",
       "      <td>2. Anafartalar</td>\n",
       "      <td>2 + 1</td>\n",
       "      <td>6.0</td>\n",
       "      <td>5.0</td>\n",
       "      <td>1.0</td>\n",
       "      <td>2.0</td>\n",
       "    </tr>\n",
       "  </tbody>\n",
       "</table>\n",
       "</div>"
      ],
      "text/plain": [
       "                                                name  price  area_m2  \\\n",
       "0  KİRALIK 3+1 MANİSA AKGEDİK 2. KAT ARAKAT 3+1 1...  13.00    130.0   \n",
       "1  KİRALIK 3+1 140 m22. Kat Full özellikli İBRAHİ...  14.00    145.0   \n",
       "2           MANİSA MERKEZDE EŞYALI 1+1 KİRALIK DAİRE   9.75     75.0   \n",
       "3  Kiralık Eşyalı Daire Manisa Karaali villaların...  15.50     85.0   \n",
       "4             Kiralık Daire Manisa 2.Anafartalar Mah  12.50     90.0   \n",
       "\n",
       "         date  floor_number   age  bath_number        district room_number  \\\n",
       "0  13-11-2023           2.0   4.0            1         Akgedik       3 + 1   \n",
       "1  13-11-2023           2.0  17.0            1   İbrahimçelebi       3 + 1   \n",
       "2  13-11-2023           1.0  30.0            1     Mimar Sinan       1 + 1   \n",
       "3  13-11-2023           2.0   3.0            1         Karaali       1 + 1   \n",
       "4  13-11-2023           3.0  28.0            1  2. Anafartalar       2 + 1   \n",
       "\n",
       "   total_floor_number  age_new  district_new  room_number_new  \n",
       "0                 4.0      0.0           1.0              3.0  \n",
       "1                 5.0      3.0           1.0              3.0  \n",
       "2                 5.0      5.0           1.0              1.0  \n",
       "3                 3.0      0.0           1.0              1.0  \n",
       "4                 6.0      5.0           1.0              2.0  "
      ]
     },
     "execution_count": 480,
     "metadata": {},
     "output_type": "execute_result"
    }
   ],
   "source": [
    "df.head()"
   ]
  },
  {
   "cell_type": "code",
   "execution_count": 481,
   "id": "3b2fa60b",
   "metadata": {
    "ExecuteTime": {
     "end_time": "2023-11-19T15:12:47.904694Z",
     "start_time": "2023-11-19T15:12:47.874613Z"
    }
   },
   "outputs": [
    {
     "name": "stdout",
     "output_type": "stream",
     "text": [
      "<class 'pandas.core.frame.DataFrame'>\n",
      "Int64Index: 191 entries, 0 to 191\n",
      "Data columns (total 13 columns):\n",
      " #   Column              Non-Null Count  Dtype  \n",
      "---  ------              --------------  -----  \n",
      " 0   name                191 non-null    object \n",
      " 1   price               191 non-null    float64\n",
      " 2   area_m2             191 non-null    float64\n",
      " 3   date                191 non-null    object \n",
      " 4   floor_number        191 non-null    float64\n",
      " 5   age                 191 non-null    float64\n",
      " 6   bath_number         191 non-null    int64  \n",
      " 7   district            191 non-null    object \n",
      " 8   room_number         191 non-null    object \n",
      " 9   total_floor_number  191 non-null    float64\n",
      " 10  age_new             191 non-null    float64\n",
      " 11  district_new        191 non-null    float64\n",
      " 12  room_number_new     191 non-null    float64\n",
      "dtypes: float64(8), int64(1), object(4)\n",
      "memory usage: 20.9+ KB\n"
     ]
    }
   ],
   "source": [
    "df.info()"
   ]
  },
  {
   "cell_type": "code",
   "execution_count": 483,
   "id": "f84edfa5",
   "metadata": {
    "ExecuteTime": {
     "end_time": "2023-11-19T15:12:47.990362Z",
     "start_time": "2023-11-19T15:12:47.962465Z"
    }
   },
   "outputs": [],
   "source": [
    "cond1 = (df.area_m2 >= 145)\n",
    "cond2 = ((df.area_m2 >= 130) & (df.area_m2 < 145))\n",
    "cond3 = ((df.area_m2 >= 100) & (df.area_m2 < 130))\n",
    "cond4 = ((df.area_m2 >= 90) & (df.area_m2 < 100))\n",
    "cond5 = ((df.area_m2 >= 70) & (df.area_m2 < 90))\n",
    "cond6 = ((df.area_m2 >= 60) & (df.area_m2 < 70))\n",
    "cond7 = (df.area_m2 < 60)\n",
    "\n",
    "df.loc[cond1, \"area_new\"] = 6\n",
    "df.loc[cond2, \"area_new\"] = 5\n",
    "df.loc[cond3, \"area_new\"] = 4\n",
    "df.loc[cond4, \"area_new\"] = 3\n",
    "df.loc[cond5, \"area_new\"] = 2\n",
    "df.loc[cond6, \"area_new\"] = 1\n",
    "df.loc[cond7, \"area_new\"] = 0"
   ]
  },
  {
   "cell_type": "code",
   "execution_count": 484,
   "id": "c2f0ebc8",
   "metadata": {
    "ExecuteTime": {
     "end_time": "2023-11-19T15:12:48.018614Z",
     "start_time": "2023-11-19T15:12:47.996279Z"
    }
   },
   "outputs": [
    {
     "data": {
      "text/plain": [
       "1    165\n",
       "2     25\n",
       "3      1\n",
       "Name: bath_number, dtype: int64"
      ]
     },
     "execution_count": 484,
     "metadata": {},
     "output_type": "execute_result"
    }
   ],
   "source": [
    "df.bath_number.value_counts()"
   ]
  },
  {
   "cell_type": "code",
   "execution_count": 485,
   "id": "98bbbbab",
   "metadata": {
    "ExecuteTime": {
     "end_time": "2023-11-19T15:13:05.094796Z",
     "start_time": "2023-11-19T15:13:05.067987Z"
    }
   },
   "outputs": [
    {
     "data": {
      "text/html": [
       "<div>\n",
       "<style scoped>\n",
       "    .dataframe tbody tr th:only-of-type {\n",
       "        vertical-align: middle;\n",
       "    }\n",
       "\n",
       "    .dataframe tbody tr th {\n",
       "        vertical-align: top;\n",
       "    }\n",
       "\n",
       "    .dataframe thead th {\n",
       "        text-align: right;\n",
       "    }\n",
       "</style>\n",
       "<table border=\"1\" class=\"dataframe\">\n",
       "  <thead>\n",
       "    <tr style=\"text-align: right;\">\n",
       "      <th></th>\n",
       "      <th>name</th>\n",
       "      <th>price</th>\n",
       "      <th>area_m2</th>\n",
       "      <th>date</th>\n",
       "      <th>floor_number</th>\n",
       "      <th>age</th>\n",
       "      <th>bath_number</th>\n",
       "      <th>district</th>\n",
       "      <th>room_number</th>\n",
       "      <th>total_floor_number</th>\n",
       "      <th>age_new</th>\n",
       "      <th>district_new</th>\n",
       "      <th>room_number_new</th>\n",
       "      <th>area_new</th>\n",
       "    </tr>\n",
       "  </thead>\n",
       "  <tbody>\n",
       "    <tr>\n",
       "      <th>0</th>\n",
       "      <td>KİRALIK 3+1 MANİSA AKGEDİK 2. KAT ARAKAT 3+1 1...</td>\n",
       "      <td>13.00</td>\n",
       "      <td>130.0</td>\n",
       "      <td>13-11-2023</td>\n",
       "      <td>2.0</td>\n",
       "      <td>4.0</td>\n",
       "      <td>1</td>\n",
       "      <td>Akgedik</td>\n",
       "      <td>3 + 1</td>\n",
       "      <td>4.0</td>\n",
       "      <td>0.0</td>\n",
       "      <td>1.0</td>\n",
       "      <td>3.0</td>\n",
       "      <td>5.0</td>\n",
       "    </tr>\n",
       "    <tr>\n",
       "      <th>1</th>\n",
       "      <td>KİRALIK 3+1 140 m22. Kat Full özellikli İBRAHİ...</td>\n",
       "      <td>14.00</td>\n",
       "      <td>145.0</td>\n",
       "      <td>13-11-2023</td>\n",
       "      <td>2.0</td>\n",
       "      <td>17.0</td>\n",
       "      <td>1</td>\n",
       "      <td>İbrahimçelebi</td>\n",
       "      <td>3 + 1</td>\n",
       "      <td>5.0</td>\n",
       "      <td>3.0</td>\n",
       "      <td>1.0</td>\n",
       "      <td>3.0</td>\n",
       "      <td>6.0</td>\n",
       "    </tr>\n",
       "    <tr>\n",
       "      <th>2</th>\n",
       "      <td>MANİSA MERKEZDE EŞYALI 1+1 KİRALIK DAİRE</td>\n",
       "      <td>9.75</td>\n",
       "      <td>75.0</td>\n",
       "      <td>13-11-2023</td>\n",
       "      <td>1.0</td>\n",
       "      <td>30.0</td>\n",
       "      <td>1</td>\n",
       "      <td>Mimar Sinan</td>\n",
       "      <td>1 + 1</td>\n",
       "      <td>5.0</td>\n",
       "      <td>5.0</td>\n",
       "      <td>1.0</td>\n",
       "      <td>1.0</td>\n",
       "      <td>2.0</td>\n",
       "    </tr>\n",
       "    <tr>\n",
       "      <th>3</th>\n",
       "      <td>Kiralık Eşyalı Daire Manisa Karaali villaların...</td>\n",
       "      <td>15.50</td>\n",
       "      <td>85.0</td>\n",
       "      <td>13-11-2023</td>\n",
       "      <td>2.0</td>\n",
       "      <td>3.0</td>\n",
       "      <td>1</td>\n",
       "      <td>Karaali</td>\n",
       "      <td>1 + 1</td>\n",
       "      <td>3.0</td>\n",
       "      <td>0.0</td>\n",
       "      <td>1.0</td>\n",
       "      <td>1.0</td>\n",
       "      <td>2.0</td>\n",
       "    </tr>\n",
       "    <tr>\n",
       "      <th>4</th>\n",
       "      <td>Kiralık Daire Manisa 2.Anafartalar Mah</td>\n",
       "      <td>12.50</td>\n",
       "      <td>90.0</td>\n",
       "      <td>13-11-2023</td>\n",
       "      <td>3.0</td>\n",
       "      <td>28.0</td>\n",
       "      <td>1</td>\n",
       "      <td>2. Anafartalar</td>\n",
       "      <td>2 + 1</td>\n",
       "      <td>6.0</td>\n",
       "      <td>5.0</td>\n",
       "      <td>1.0</td>\n",
       "      <td>2.0</td>\n",
       "      <td>3.0</td>\n",
       "    </tr>\n",
       "  </tbody>\n",
       "</table>\n",
       "</div>"
      ],
      "text/plain": [
       "                                                name  price  area_m2  \\\n",
       "0  KİRALIK 3+1 MANİSA AKGEDİK 2. KAT ARAKAT 3+1 1...  13.00    130.0   \n",
       "1  KİRALIK 3+1 140 m22. Kat Full özellikli İBRAHİ...  14.00    145.0   \n",
       "2           MANİSA MERKEZDE EŞYALI 1+1 KİRALIK DAİRE   9.75     75.0   \n",
       "3  Kiralık Eşyalı Daire Manisa Karaali villaların...  15.50     85.0   \n",
       "4             Kiralık Daire Manisa 2.Anafartalar Mah  12.50     90.0   \n",
       "\n",
       "         date  floor_number   age  bath_number        district room_number  \\\n",
       "0  13-11-2023           2.0   4.0            1         Akgedik       3 + 1   \n",
       "1  13-11-2023           2.0  17.0            1   İbrahimçelebi       3 + 1   \n",
       "2  13-11-2023           1.0  30.0            1     Mimar Sinan       1 + 1   \n",
       "3  13-11-2023           2.0   3.0            1         Karaali       1 + 1   \n",
       "4  13-11-2023           3.0  28.0            1  2. Anafartalar       2 + 1   \n",
       "\n",
       "   total_floor_number  age_new  district_new  room_number_new  area_new  \n",
       "0                 4.0      0.0           1.0              3.0       5.0  \n",
       "1                 5.0      3.0           1.0              3.0       6.0  \n",
       "2                 5.0      5.0           1.0              1.0       2.0  \n",
       "3                 3.0      0.0           1.0              1.0       2.0  \n",
       "4                 6.0      5.0           1.0              2.0       3.0  "
      ]
     },
     "execution_count": 485,
     "metadata": {},
     "output_type": "execute_result"
    }
   ],
   "source": [
    "df.head()"
   ]
  },
  {
   "cell_type": "code",
   "execution_count": 486,
   "id": "81a94b11",
   "metadata": {
    "ExecuteTime": {
     "end_time": "2023-11-19T15:13:40.558267Z",
     "start_time": "2023-11-19T15:13:40.536057Z"
    }
   },
   "outputs": [
    {
     "data": {
      "text/plain": [
       "name                  False\n",
       "price                 False\n",
       "area_m2               False\n",
       "date                  False\n",
       "floor_number          False\n",
       "age                   False\n",
       "bath_number           False\n",
       "district              False\n",
       "room_number           False\n",
       "total_floor_number    False\n",
       "age_new               False\n",
       "district_new          False\n",
       "room_number_new       False\n",
       "area_new              False\n",
       "dtype: bool"
      ]
     },
     "execution_count": 486,
     "metadata": {},
     "output_type": "execute_result"
    }
   ],
   "source": [
    "df.isnull().any()"
   ]
  },
  {
   "cell_type": "code",
   "execution_count": 496,
   "id": "d3d5d175",
   "metadata": {
    "ExecuteTime": {
     "end_time": "2023-11-19T16:02:08.036580Z",
     "start_time": "2023-11-19T16:02:08.021675Z"
    }
   },
   "outputs": [],
   "source": [
    "df.to_csv(\"df_hepsiemlak_cleaned.csv\")"
   ]
  },
  {
   "cell_type": "code",
   "execution_count": null,
   "id": "7d93fb89",
   "metadata": {},
   "outputs": [],
   "source": []
  }
 ],
 "metadata": {
  "hide_input": false,
  "kernelspec": {
   "display_name": "Python 3 (ipykernel)",
   "language": "python",
   "name": "python3"
  },
  "language_info": {
   "codemirror_mode": {
    "name": "ipython",
    "version": 3
   },
   "file_extension": ".py",
   "mimetype": "text/x-python",
   "name": "python",
   "nbconvert_exporter": "python",
   "pygments_lexer": "ipython3",
   "version": "3.7.0"
  }
 },
 "nbformat": 4,
 "nbformat_minor": 5
}
